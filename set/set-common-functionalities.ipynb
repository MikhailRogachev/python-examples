{
 "cells": [
  {
   "cell_type": "markdown",
   "id": "a8cbd04d",
   "metadata": {},
   "source": [
    "# Set\n",
    "\n",
    "This type is an unordered collection of unique elements. The set supports a variety of operations that relate to mathematical set theory which find an application in database-related work."
   ]
  },
  {
   "cell_type": "markdown",
   "id": "4d9ecb28",
   "metadata": {},
   "source": [
    "## New empty set"
   ]
  },
  {
   "cell_type": "code",
   "execution_count": 2,
   "id": "98816fd7",
   "metadata": {},
   "outputs": [
    {
     "name": "stdout",
     "output_type": "stream",
     "text": [
      "<class 'set'>\n",
      "set()\n"
     ]
    }
   ],
   "source": [
    "my_set = set()\n",
    "print(type(my_set))\n",
    "print(my_set)"
   ]
  },
  {
   "cell_type": "markdown",
   "id": "483c9419",
   "metadata": {},
   "source": [
    "## New empty set with the set function"
   ]
  },
  {
   "cell_type": "code",
   "execution_count": 5,
   "id": "09f10331",
   "metadata": {},
   "outputs": [
    {
     "data": {
      "text/plain": [
       "{0.5, 1, 'test'}"
      ]
     },
     "execution_count": 5,
     "metadata": {},
     "output_type": "execute_result"
    }
   ],
   "source": [
    "my_set = set(['test', 1, .5])\n",
    "my_set"
   ]
  },
  {
   "cell_type": "code",
   "execution_count": 6,
   "id": "60a12c38",
   "metadata": {},
   "outputs": [
    {
     "data": {
      "text/plain": [
       "{2, 4, 6}"
      ]
     },
     "execution_count": 6,
     "metadata": {},
     "output_type": "execute_result"
    }
   ],
   "source": [
    "my_set = set([4, 2, 6])\n",
    "my_set"
   ]
  },
  {
   "cell_type": "code",
   "execution_count": 31,
   "id": "9deea09b",
   "metadata": {},
   "outputs": [
    {
     "data": {
      "text/plain": [
       "{1, 2, 3, 5}"
      ]
     },
     "execution_count": 31,
     "metadata": {},
     "output_type": "execute_result"
    }
   ],
   "source": [
    "my_set = set([1, 1, 2, 3, 5, 5])\n",
    "my_set"
   ]
  },
  {
   "cell_type": "code",
   "execution_count": 7,
   "id": "c523f330",
   "metadata": {},
   "outputs": [
    {
     "data": {
      "text/plain": [
       "{1, 2, 3}"
      ]
     },
     "execution_count": 7,
     "metadata": {},
     "output_type": "execute_result"
    }
   ],
   "source": [
    "my_set = set([1, 2, 3])\n",
    "my_set"
   ]
  },
  {
   "cell_type": "markdown",
   "id": "1ff74d48",
   "metadata": {},
   "source": [
    "## Add element x to the set a"
   ]
  },
  {
   "cell_type": "code",
   "execution_count": 12,
   "id": "c966b4c5",
   "metadata": {},
   "outputs": [
    {
     "data": {
      "text/plain": [
       "{1, 2, 3}"
      ]
     },
     "execution_count": 12,
     "metadata": {},
     "output_type": "execute_result"
    }
   ],
   "source": [
    "my_set = set([1, 2, 3])\n",
    "my_set"
   ]
  },
  {
   "cell_type": "code",
   "execution_count": 13,
   "id": "89d163ac",
   "metadata": {},
   "outputs": [
    {
     "data": {
      "text/plain": [
       "{1, 2, 3, 4}"
      ]
     },
     "execution_count": 13,
     "metadata": {},
     "output_type": "execute_result"
    }
   ],
   "source": [
    "my_set.add(4)\n",
    "my_set"
   ]
  },
  {
   "cell_type": "markdown",
   "id": "9fc7585b",
   "metadata": {},
   "source": [
    "## Reset the set a to an empty state, discarding all its elements"
   ]
  },
  {
   "cell_type": "code",
   "execution_count": 14,
   "id": "3ca14155",
   "metadata": {},
   "outputs": [
    {
     "data": {
      "text/plain": [
       "{1, 2, 3}"
      ]
     },
     "execution_count": 14,
     "metadata": {},
     "output_type": "execute_result"
    }
   ],
   "source": [
    "my_set = set([1, 2, 3])\n",
    "my_set"
   ]
  },
  {
   "cell_type": "code",
   "execution_count": 15,
   "id": "f2d4729b",
   "metadata": {},
   "outputs": [
    {
     "data": {
      "text/plain": [
       "set()"
      ]
     },
     "execution_count": 15,
     "metadata": {},
     "output_type": "execute_result"
    }
   ],
   "source": [
    "my_set.clear()\n",
    "my_set"
   ]
  },
  {
   "cell_type": "markdown",
   "id": "29fca8ec",
   "metadata": {},
   "source": [
    "## Remove element x from the set a. Returns an error if element not present"
   ]
  },
  {
   "cell_type": "code",
   "execution_count": 21,
   "id": "5a87ce53",
   "metadata": {},
   "outputs": [
    {
     "data": {
      "text/plain": [
       "{1, 2, 3, 4, 5, 6}"
      ]
     },
     "execution_count": 21,
     "metadata": {},
     "output_type": "execute_result"
    }
   ],
   "source": [
    "my_set = set([1, 2, 3, 4, 5, 6])\n",
    "my_set"
   ]
  },
  {
   "cell_type": "code",
   "execution_count": 22,
   "id": "88cf4893",
   "metadata": {},
   "outputs": [
    {
     "data": {
      "text/plain": [
       "{1, 2, 3, 4, 5}"
      ]
     },
     "execution_count": 22,
     "metadata": {},
     "output_type": "execute_result"
    }
   ],
   "source": [
    "my_set.remove(6)\n",
    "my_set"
   ]
  },
  {
   "cell_type": "code",
   "execution_count": 23,
   "id": "b1f54c3e",
   "metadata": {},
   "outputs": [
    {
     "ename": "KeyError",
     "evalue": "10",
     "output_type": "error",
     "traceback": [
      "\u001b[1;31m---------------------------------------------------------------------------\u001b[0m",
      "\u001b[1;31mKeyError\u001b[0m                                  Traceback (most recent call last)",
      "\u001b[1;32m~\\AppData\\Local\\Temp/ipykernel_13496/3173156896.py\u001b[0m in \u001b[0;36m<module>\u001b[1;34m\u001b[0m\n\u001b[1;32m----> 1\u001b[1;33m \u001b[0mmy_set\u001b[0m\u001b[1;33m.\u001b[0m\u001b[0mremove\u001b[0m\u001b[1;33m(\u001b[0m\u001b[1;36m10\u001b[0m\u001b[1;33m)\u001b[0m\u001b[1;33m\u001b[0m\u001b[1;33m\u001b[0m\u001b[0m\n\u001b[0m",
      "\u001b[1;31mKeyError\u001b[0m: 10"
     ]
    }
   ],
   "source": [
    "my_set.remove(10)"
   ]
  },
  {
   "cell_type": "code",
   "execution_count": 24,
   "id": "5d62cfee",
   "metadata": {},
   "outputs": [
    {
     "data": {
      "text/plain": [
       "{1, 2, 4, 5}"
      ]
     },
     "execution_count": 24,
     "metadata": {},
     "output_type": "execute_result"
    }
   ],
   "source": [
    "my_set.remove(3)\n",
    "my_set"
   ]
  },
  {
   "cell_type": "markdown",
   "id": "f4b91a72",
   "metadata": {},
   "source": [
    "## Removes an arbitrary element from the set a, raising KeyError if the set is empty"
   ]
  },
  {
   "cell_type": "code",
   "execution_count": 25,
   "id": "24a73bce",
   "metadata": {},
   "outputs": [
    {
     "data": {
      "text/plain": [
       "{1, 2, 3, 4, 5, 6, 7, 8, 9}"
      ]
     },
     "execution_count": 25,
     "metadata": {},
     "output_type": "execute_result"
    }
   ],
   "source": [
    "my_set = set([1, 2, 3, 4, 5, 6, 7, 8, 9])\n",
    "my_set"
   ]
  },
  {
   "cell_type": "code",
   "execution_count": 26,
   "id": "6d8f3598",
   "metadata": {},
   "outputs": [
    {
     "data": {
      "text/plain": [
       "1"
      ]
     },
     "execution_count": 26,
     "metadata": {},
     "output_type": "execute_result"
    }
   ],
   "source": [
    "my_set.pop()"
   ]
  },
  {
   "cell_type": "code",
   "execution_count": 27,
   "id": "c695e7c4",
   "metadata": {},
   "outputs": [
    {
     "data": {
      "text/plain": [
       "{2, 3, 4, 5, 6, 7, 8, 9}"
      ]
     },
     "execution_count": 27,
     "metadata": {},
     "output_type": "execute_result"
    }
   ],
   "source": [
    "my_set"
   ]
  },
  {
   "cell_type": "code",
   "execution_count": 29,
   "id": "96564bf8",
   "metadata": {},
   "outputs": [
    {
     "data": {
      "text/plain": [
       "2"
      ]
     },
     "execution_count": 29,
     "metadata": {},
     "output_type": "execute_result"
    }
   ],
   "source": [
    "my_set.pop()"
   ]
  },
  {
   "cell_type": "code",
   "execution_count": 30,
   "id": "054dbeb7",
   "metadata": {},
   "outputs": [
    {
     "data": {
      "text/plain": [
       "{3, 4, 5, 6, 7, 8, 9}"
      ]
     },
     "execution_count": 30,
     "metadata": {},
     "output_type": "execute_result"
    }
   ],
   "source": [
    "my_set"
   ]
  },
  {
   "cell_type": "markdown",
   "id": "54ca9775",
   "metadata": {},
   "source": [
    "## All the unique elements in a and b"
   ]
  },
  {
   "cell_type": "code",
   "execution_count": 34,
   "id": "0c346446",
   "metadata": {},
   "outputs": [
    {
     "name": "stdout",
     "output_type": "stream",
     "text": [
      "{1, 2, 3, 4}\n",
      "{8, 5, 6, 7}\n"
     ]
    },
    {
     "data": {
      "text/plain": [
       "{1, 2, 3, 4, 5, 6, 7, 8}"
      ]
     },
     "execution_count": 34,
     "metadata": {},
     "output_type": "execute_result"
    }
   ],
   "source": [
    "set_a = set([1, 2, 3, 4])\n",
    "set_b = set([5, 6, 7, 8])\n",
    "\n",
    "print(set_a)\n",
    "print(set_b)\n",
    "\n",
    "set_a.union(set_b)"
   ]
  },
  {
   "cell_type": "code",
   "execution_count": 35,
   "id": "23a4c911",
   "metadata": {
    "scrolled": true
   },
   "outputs": [
    {
     "name": "stdout",
     "output_type": "stream",
     "text": [
      "{1, 2, 3, 4, 5}\n",
      "{8, 5, 6, 7}\n"
     ]
    },
    {
     "data": {
      "text/plain": [
       "{1, 2, 3, 4, 5, 6, 7, 8}"
      ]
     },
     "execution_count": 35,
     "metadata": {},
     "output_type": "execute_result"
    }
   ],
   "source": [
    "set_a = set([1, 2, 3, 4, 4, 4, 5])\n",
    "set_b = set([5, 6, 7, 8, 8])\n",
    "\n",
    "print(set_a)\n",
    "print(set_b)\n",
    "\n",
    "set_a.union(set_b)"
   ]
  },
  {
   "cell_type": "markdown",
   "id": "8341bad4",
   "metadata": {},
   "source": [
    "## Set the contents of a to be the union of the elements in a and b"
   ]
  },
  {
   "cell_type": "code",
   "execution_count": 41,
   "id": "0ae5dbda",
   "metadata": {},
   "outputs": [
    {
     "name": "stdout",
     "output_type": "stream",
     "text": [
      "{1, 2, 3, 4}\n",
      "{8, 5, 6, 7}\n"
     ]
    },
    {
     "data": {
      "text/plain": [
       "{1, 2, 3, 4, 5, 6, 7, 8}"
      ]
     },
     "execution_count": 41,
     "metadata": {},
     "output_type": "execute_result"
    }
   ],
   "source": [
    "set_a = set([1, 2, 3, 4])\n",
    "set_b = set([5, 6, 7, 8])\n",
    "\n",
    "print(set_a)\n",
    "print(set_b)\n",
    "\n",
    "set_a.update(set_b)\n",
    "set_a"
   ]
  },
  {
   "cell_type": "markdown",
   "id": "f1fb7091",
   "metadata": {},
   "source": [
    "## Sets the contents of a to be the intersection of the elements in a and b"
   ]
  },
  {
   "cell_type": "code",
   "execution_count": 40,
   "id": "6e5815ec",
   "metadata": {},
   "outputs": [
    {
     "name": "stdout",
     "output_type": "stream",
     "text": [
      "{1, 2, 3, 4}\n",
      "{8, 5, 6, 7}\n"
     ]
    },
    {
     "data": {
      "text/plain": [
       "set()"
      ]
     },
     "execution_count": 40,
     "metadata": {},
     "output_type": "execute_result"
    }
   ],
   "source": [
    "set_a = set([1, 2, 3, 4])\n",
    "set_b = set([5, 6, 7, 8])\n",
    "\n",
    "print(set_a)\n",
    "print(set_b)\n",
    "\n",
    "set_a.intersection_update(set_b)\n",
    "set_a"
   ]
  },
  {
   "cell_type": "code",
   "execution_count": 38,
   "id": "560de0d9",
   "metadata": {},
   "outputs": [
    {
     "name": "stdout",
     "output_type": "stream",
     "text": [
      "{1, 2, 3, 4, 5}\n",
      "{8, 5, 6, 7}\n"
     ]
    },
    {
     "data": {
      "text/plain": [
       "{5}"
      ]
     },
     "execution_count": 38,
     "metadata": {},
     "output_type": "execute_result"
    }
   ],
   "source": [
    "set_a = set([1, 2, 3, 4, 4, 4, 5])\n",
    "set_b = set([5, 6, 7, 8, 8])\n",
    "\n",
    "print(set_a)\n",
    "print(set_b)\n",
    "\n",
    "set_a.intersection_update(set_b)\n",
    "set_a"
   ]
  },
  {
   "cell_type": "markdown",
   "id": "b31a48ba",
   "metadata": {},
   "source": [
    "## Returns the elements in a that are not in b"
   ]
  },
  {
   "cell_type": "code",
   "execution_count": 42,
   "id": "a50f3365",
   "metadata": {
    "scrolled": true
   },
   "outputs": [
    {
     "name": "stdout",
     "output_type": "stream",
     "text": [
      "{1, 2, 3, 4}\n",
      "{8, 5, 6, 7}\n"
     ]
    },
    {
     "data": {
      "text/plain": [
       "{1, 2, 3, 4}"
      ]
     },
     "execution_count": 42,
     "metadata": {},
     "output_type": "execute_result"
    }
   ],
   "source": [
    "set_a = set([1, 2, 3, 4])\n",
    "set_b = set([5, 6, 7, 8])\n",
    "\n",
    "print(set_a)\n",
    "print(set_b)\n",
    "\n",
    "set_a.difference(set_b)\n",
    "set_a"
   ]
  },
  {
   "cell_type": "code",
   "execution_count": 43,
   "id": "10621624",
   "metadata": {},
   "outputs": [
    {
     "name": "stdout",
     "output_type": "stream",
     "text": [
      "{1, 2, 3, 4, 5}\n",
      "{8, 5, 6, 7}\n"
     ]
    },
    {
     "data": {
      "text/plain": [
       "{1, 2, 3, 4, 5}"
      ]
     },
     "execution_count": 43,
     "metadata": {},
     "output_type": "execute_result"
    }
   ],
   "source": [
    "set_a = set([1, 2, 3, 4, 4, 4, 5])\n",
    "set_b = set([5, 6, 7, 8, 8])\n",
    "\n",
    "print(set_a)\n",
    "print(set_b)\n",
    "\n",
    "set_a.difference(set_b)\n",
    "set_a"
   ]
  },
  {
   "cell_type": "markdown",
   "id": "e1ff3afb",
   "metadata": {},
   "source": [
    "## Sets a to the elements in a that are not in b"
   ]
  },
  {
   "cell_type": "code",
   "execution_count": 44,
   "id": "73d2e8a0",
   "metadata": {},
   "outputs": [
    {
     "name": "stdout",
     "output_type": "stream",
     "text": [
      "{1, 2, 3, 4}\n",
      "{8, 5, 6, 7}\n"
     ]
    },
    {
     "data": {
      "text/plain": [
       "{1, 2, 3, 4}"
      ]
     },
     "execution_count": 44,
     "metadata": {},
     "output_type": "execute_result"
    }
   ],
   "source": [
    "set_a = set([1, 2, 3, 4])\n",
    "set_b = set([5, 6, 7, 8])\n",
    "\n",
    "print(set_a)\n",
    "print(set_b)\n",
    "\n",
    "set_a.difference_update(set_b)\n",
    "set_a"
   ]
  },
  {
   "cell_type": "code",
   "execution_count": 45,
   "id": "7b38f64b",
   "metadata": {},
   "outputs": [
    {
     "name": "stdout",
     "output_type": "stream",
     "text": [
      "{1, 2, 3, 4}\n",
      "{8, 5, 6, 7}\n"
     ]
    },
    {
     "data": {
      "text/plain": [
       "{5, 6, 7, 8}"
      ]
     },
     "execution_count": 45,
     "metadata": {},
     "output_type": "execute_result"
    }
   ],
   "source": [
    "set_a = set([1, 2, 3, 4])\n",
    "set_b = set([5, 6, 7, 8])\n",
    "\n",
    "print(set_a)\n",
    "print(set_b)\n",
    "\n",
    "set_b.difference_update(set_a)\n",
    "set_b"
   ]
  },
  {
   "cell_type": "code",
   "execution_count": 46,
   "id": "7861e2cf",
   "metadata": {},
   "outputs": [
    {
     "name": "stdout",
     "output_type": "stream",
     "text": [
      "{1, 2, 3, 4, 5}\n",
      "{8, 5, 6, 7}\n"
     ]
    },
    {
     "data": {
      "text/plain": [
       "{1, 2, 3, 4}"
      ]
     },
     "execution_count": 46,
     "metadata": {},
     "output_type": "execute_result"
    }
   ],
   "source": [
    "set_a = set([1, 2, 3, 4, 4, 4, 5])\n",
    "set_b = set([5, 6, 7, 8, 8])\n",
    "\n",
    "print(set_a)\n",
    "print(set_b)\n",
    "\n",
    "set_a.difference_update(set_b)\n",
    "set_a"
   ]
  },
  {
   "cell_type": "markdown",
   "id": "1303c47c",
   "metadata": {},
   "source": [
    "## All the elements in either a or b but not both"
   ]
  },
  {
   "cell_type": "code",
   "execution_count": 47,
   "id": "f2b704e7",
   "metadata": {},
   "outputs": [
    {
     "name": "stdout",
     "output_type": "stream",
     "text": [
      "{1, 2, 3, 4}\n",
      "{8, 5, 6, 7}\n"
     ]
    },
    {
     "data": {
      "text/plain": [
       "{1, 2, 3, 4}"
      ]
     },
     "execution_count": 47,
     "metadata": {},
     "output_type": "execute_result"
    }
   ],
   "source": [
    "set_a = set([1, 2, 3, 4])\n",
    "set_b = set([5, 6, 7, 8])\n",
    "\n",
    "print(set_a)\n",
    "print(set_b)\n",
    "\n",
    "set_a.symmetric_difference(set_b)\n",
    "set_a"
   ]
  },
  {
   "cell_type": "markdown",
   "id": "ed4d3f62",
   "metadata": {},
   "source": [
    "## Set a to contain the elements in either a or b but not both"
   ]
  },
  {
   "cell_type": "code",
   "execution_count": 48,
   "id": "7ed0fc45",
   "metadata": {},
   "outputs": [
    {
     "name": "stdout",
     "output_type": "stream",
     "text": [
      "{1, 2, 3, 4}\n",
      "{8, 5, 6, 7}\n"
     ]
    },
    {
     "data": {
      "text/plain": [
       "{1, 2, 3, 4, 5, 6, 7, 8}"
      ]
     },
     "execution_count": 48,
     "metadata": {},
     "output_type": "execute_result"
    }
   ],
   "source": [
    "set_a = set([1, 2, 3, 4])\n",
    "set_b = set([5, 6, 7, 8])\n",
    "\n",
    "print(set_a)\n",
    "print(set_b)\n",
    "\n",
    "set_a.symmetric_difference_update(set_b)\n",
    "set_a"
   ]
  },
  {
   "cell_type": "markdown",
   "id": "4428e799",
   "metadata": {},
   "source": [
    "## True if the elements of a are all contained in b"
   ]
  },
  {
   "cell_type": "code",
   "execution_count": 57,
   "id": "2ab4ca67",
   "metadata": {},
   "outputs": [
    {
     "name": "stdout",
     "output_type": "stream",
     "text": [
      "{1, 2, 3, 4}\n",
      "{8, 5, 6, 7}\n"
     ]
    },
    {
     "data": {
      "text/plain": [
       "False"
      ]
     },
     "execution_count": 57,
     "metadata": {},
     "output_type": "execute_result"
    }
   ],
   "source": [
    "set_a = set([1, 2, 3, 4])\n",
    "set_b = set([5, 6, 7, 8])\n",
    "\n",
    "print(set_a)\n",
    "print(set_b)\n",
    "\n",
    "set_a.issubset(set_b)"
   ]
  },
  {
   "cell_type": "code",
   "execution_count": 58,
   "id": "2b006746",
   "metadata": {},
   "outputs": [
    {
     "name": "stdout",
     "output_type": "stream",
     "text": [
      "{1, 2}\n",
      "{1, 2, 3, 4}\n"
     ]
    },
    {
     "data": {
      "text/plain": [
       "True"
      ]
     },
     "execution_count": 58,
     "metadata": {},
     "output_type": "execute_result"
    }
   ],
   "source": [
    "set_a = set([1, 2])\n",
    "set_b = set([1, 2, 3, 4])\n",
    "\n",
    "print(set_a)\n",
    "print(set_b)\n",
    "\n",
    "set_a.issubset(set_b)"
   ]
  },
  {
   "cell_type": "markdown",
   "id": "66e06ba6",
   "metadata": {},
   "source": [
    "## Returns True if the elements of b are all contained in a"
   ]
  },
  {
   "cell_type": "code",
   "execution_count": 59,
   "id": "6f738b7f",
   "metadata": {},
   "outputs": [
    {
     "name": "stdout",
     "output_type": "stream",
     "text": [
      "{1, 2, 3, 4}\n",
      "{1, 4}\n"
     ]
    },
    {
     "data": {
      "text/plain": [
       "True"
      ]
     },
     "execution_count": 59,
     "metadata": {},
     "output_type": "execute_result"
    }
   ],
   "source": [
    "set_a = set([1, 2, 3, 4])\n",
    "set_b = set([4, 1])\n",
    "\n",
    "print(set_a)\n",
    "print(set_b)\n",
    "\n",
    "set_a.issuperset(set_b)"
   ]
  },
  {
   "cell_type": "code",
   "execution_count": 60,
   "id": "2ddfc82c",
   "metadata": {},
   "outputs": [
    {
     "name": "stdout",
     "output_type": "stream",
     "text": [
      "{1, 2, 3, 4, 5}\n",
      "{8, 5, 6, 7}\n"
     ]
    },
    {
     "data": {
      "text/plain": [
       "False"
      ]
     },
     "execution_count": 60,
     "metadata": {},
     "output_type": "execute_result"
    }
   ],
   "source": [
    "set_a = set([1, 2, 3, 4, 4, 4, 5])\n",
    "set_b = set([5, 6, 7, 8, 8])\n",
    "\n",
    "print(set_a)\n",
    "print(set_b)\n",
    "\n",
    "set_a.issuperset(set_b)"
   ]
  },
  {
   "cell_type": "markdown",
   "id": "9563863a",
   "metadata": {},
   "source": [
    "## Returns True if a and b have no elements in common"
   ]
  },
  {
   "cell_type": "code",
   "execution_count": 61,
   "id": "4de153ec",
   "metadata": {},
   "outputs": [
    {
     "name": "stdout",
     "output_type": "stream",
     "text": [
      "{1, 2, 3, 4, 5}\n",
      "{8, 5, 6, 7}\n"
     ]
    },
    {
     "data": {
      "text/plain": [
       "False"
      ]
     },
     "execution_count": 61,
     "metadata": {},
     "output_type": "execute_result"
    }
   ],
   "source": [
    "set_a = set([1, 2, 3, 4, 4, 4, 5])\n",
    "set_b = set([5, 6, 7, 8, 8])\n",
    "\n",
    "print(set_a)\n",
    "print(set_b)\n",
    "\n",
    "set_a.isdisjoint(set_b)"
   ]
  },
  {
   "cell_type": "code",
   "execution_count": 62,
   "id": "6c4deee5",
   "metadata": {},
   "outputs": [
    {
     "name": "stdout",
     "output_type": "stream",
     "text": [
      "{1, 2, 3, 4}\n",
      "{8, 5, 6, 7}\n"
     ]
    },
    {
     "data": {
      "text/plain": [
       "True"
      ]
     },
     "execution_count": 62,
     "metadata": {},
     "output_type": "execute_result"
    }
   ],
   "source": [
    "set_a = set([1, 2, 3, 4])\n",
    "set_b = set([5, 6, 7, 8, 8])\n",
    "\n",
    "print(set_a)\n",
    "print(set_b)\n",
    "\n",
    "set_a.isdisjoint(set_b)"
   ]
  }
 ],
 "metadata": {
  "kernelspec": {
   "display_name": "Python 3 (ipykernel)",
   "language": "python",
   "name": "python3"
  },
  "language_info": {
   "codemirror_mode": {
    "name": "ipython",
    "version": 3
   },
   "file_extension": ".py",
   "mimetype": "text/x-python",
   "name": "python",
   "nbconvert_exporter": "python",
   "pygments_lexer": "ipython3",
   "version": "3.9.7"
  },
  "toc": {
   "base_numbering": 1,
   "nav_menu": {},
   "number_sections": true,
   "sideBar": true,
   "skip_h1_title": true,
   "title_cell": "Table of Contents",
   "title_sidebar": "Contents",
   "toc_cell": false,
   "toc_position": {},
   "toc_section_display": true,
   "toc_window_display": true
  },
  "varInspector": {
   "cols": {
    "lenName": 16,
    "lenType": 16,
    "lenVar": 40
   },
   "kernels_config": {
    "python": {
     "delete_cmd_postfix": "",
     "delete_cmd_prefix": "del ",
     "library": "var_list.py",
     "varRefreshCmd": "print(var_dic_list())"
    },
    "r": {
     "delete_cmd_postfix": ") ",
     "delete_cmd_prefix": "rm(",
     "library": "var_list.r",
     "varRefreshCmd": "cat(var_dic_list()) "
    }
   },
   "types_to_exclude": [
    "module",
    "function",
    "builtin_function_or_method",
    "instance",
    "_Feature"
   ],
   "window_display": false
  }
 },
 "nbformat": 4,
 "nbformat_minor": 5
}
