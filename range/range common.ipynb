{
 "cells": [
  {
   "cell_type": "markdown",
   "id": "24bbc0c4",
   "metadata": {},
   "source": [
    "# Range\n",
    "\n",
    "One argument: will return a list of integers non-inclusive of the argument's value:"
   ]
  },
  {
   "cell_type": "markdown",
   "id": "6d3667aa",
   "metadata": {},
   "source": [
    "## One argument\n",
    "\n",
    "Will return a list of integers non-inclusive of the argument's value:"
   ]
  },
  {
   "cell_type": "code",
   "execution_count": 1,
   "id": "8f816232",
   "metadata": {},
   "outputs": [],
   "source": [
    "my_range = range(5)"
   ]
  },
  {
   "cell_type": "code",
   "execution_count": 3,
   "id": "58c15b3f",
   "metadata": {},
   "outputs": [
    {
     "name": "stdout",
     "output_type": "stream",
     "text": [
      "<class 'range'>\n",
      "range(0, 5)\n",
      "[0, 1, 2, 3, 4]\n"
     ]
    }
   ],
   "source": [
    "print(type(my_range))\n",
    "print(my_range)\n",
    "print(list(my_range))"
   ]
  },
  {
   "cell_type": "markdown",
   "id": "d42867b9",
   "metadata": {},
   "source": [
    "## Two arguments \n",
    "\n",
    "The first argument becomes a lower bound, while the second an upper bound:"
   ]
  },
  {
   "cell_type": "code",
   "execution_count": 4,
   "id": "756104d1",
   "metadata": {},
   "outputs": [],
   "source": [
    "my_range = range(10, 34)"
   ]
  },
  {
   "cell_type": "code",
   "execution_count": 5,
   "id": "b6ca5ebf",
   "metadata": {},
   "outputs": [
    {
     "name": "stdout",
     "output_type": "stream",
     "text": [
      "<class 'range'>\n",
      "range(10, 34)\n",
      "[10, 11, 12, 13, 14, 15, 16, 17, 18, 19, 20, 21, 22, 23, 24, 25, 26, 27, 28, 29, 30, 31, 32, 33]\n"
     ]
    }
   ],
   "source": [
    "print(type(my_range))\n",
    "print(my_range)\n",
    "print(list(my_range))"
   ]
  },
  {
   "cell_type": "markdown",
   "id": "43ae4648",
   "metadata": {},
   "source": [
    "## Three arguments\n",
    "\n",
    "In addition to the upper and lower bounds, the third argument serves as a step"
   ]
  },
  {
   "cell_type": "code",
   "execution_count": 6,
   "id": "eb467088",
   "metadata": {},
   "outputs": [],
   "source": [
    "my_range = range(2, 23, 2)"
   ]
  },
  {
   "cell_type": "code",
   "execution_count": 7,
   "id": "9876f6fa",
   "metadata": {},
   "outputs": [
    {
     "name": "stdout",
     "output_type": "stream",
     "text": [
      "<class 'range'>\n",
      "range(2, 23, 2)\n",
      "[2, 4, 6, 8, 10, 12, 14, 16, 18, 20, 22]\n"
     ]
    }
   ],
   "source": [
    "print(type(my_range))\n",
    "print(my_range)\n",
    "print(list(my_range))"
   ]
  },
  {
   "cell_type": "markdown",
   "id": "e28af1c4",
   "metadata": {},
   "source": [
    "## Examples\n"
   ]
  },
  {
   "cell_type": "code",
   "execution_count": 5,
   "id": "ff7d11f0",
   "metadata": {},
   "outputs": [
    {
     "name": "stdout",
     "output_type": "stream",
     "text": [
      "i = 0\n",
      "i = 1\n",
      "i = 2\n",
      "i = 3\n",
      "i = 4\n"
     ]
    }
   ],
   "source": [
    "for i in range(5):\n",
    "    print('i = {}'.format(i))"
   ]
  },
  {
   "cell_type": "code",
   "execution_count": 4,
   "id": "fcf6a40b",
   "metadata": {},
   "outputs": [
    {
     "name": "stdout",
     "output_type": "stream",
     "text": [
      "i = 0, value = 38\n",
      "i = 1, value = 46\n",
      "i = 2, value = 6\n",
      "i = 3, value = 82\n",
      "i = 4, value = 30\n"
     ]
    }
   ],
   "source": [
    "my_list = [19, 23, 3, 41, 15]\n",
    "for i in range(len(my_list)):\n",
    "    print('i = {}, value = {}'.format(i, my_list[i] * 2))"
   ]
  },
  {
   "cell_type": "code",
   "execution_count": null,
   "id": "df14f62b",
   "metadata": {},
   "outputs": [],
   "source": []
  }
 ],
 "metadata": {
  "kernelspec": {
   "display_name": "Python 3 (ipykernel)",
   "language": "python",
   "name": "python3"
  },
  "language_info": {
   "codemirror_mode": {
    "name": "ipython",
    "version": 3
   },
   "file_extension": ".py",
   "mimetype": "text/x-python",
   "name": "python",
   "nbconvert_exporter": "python",
   "pygments_lexer": "ipython3",
   "version": "3.9.7"
  },
  "toc": {
   "base_numbering": 1,
   "nav_menu": {},
   "number_sections": true,
   "sideBar": true,
   "skip_h1_title": true,
   "title_cell": "Table of Contents",
   "title_sidebar": "Contents",
   "toc_cell": false,
   "toc_position": {},
   "toc_section_display": true,
   "toc_window_display": true
  },
  "varInspector": {
   "cols": {
    "lenName": 16,
    "lenType": 16,
    "lenVar": 40
   },
   "kernels_config": {
    "python": {
     "delete_cmd_postfix": "",
     "delete_cmd_prefix": "del ",
     "library": "var_list.py",
     "varRefreshCmd": "print(var_dic_list())"
    },
    "r": {
     "delete_cmd_postfix": ") ",
     "delete_cmd_prefix": "rm(",
     "library": "var_list.r",
     "varRefreshCmd": "cat(var_dic_list()) "
    }
   },
   "types_to_exclude": [
    "module",
    "function",
    "builtin_function_or_method",
    "instance",
    "_Feature"
   ],
   "window_display": false
  }
 },
 "nbformat": 4,
 "nbformat_minor": 5
}
