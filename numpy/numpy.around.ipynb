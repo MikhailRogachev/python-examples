{
 "cells": [
  {
   "cell_type": "code",
   "execution_count": 1,
   "id": "a523c6aa",
   "metadata": {},
   "outputs": [],
   "source": [
    "import numpy as np"
   ]
  },
  {
   "cell_type": "markdown",
   "id": "1f30f5a4",
   "metadata": {},
   "source": [
    "# numpy.around(a, decimals=0, out=None)\n",
    "\n",
    "https://numpy.org/doc/stable/reference/generated/numpy.around.html\n",
    "\n",
    "### _Parameters_\n",
    "`a`:  array_like\n",
    "\n",
    "Input data.\n",
    "\n",
    "`decimals`: int, optional\n",
    "\n",
    "Number of decimal places to round to (default: 0). If decimals is negative, it specifies the number of positions to the left of the decimal point.\n",
    "\n",
    "`out`: ndarray, optional\n",
    "\n",
    "Alternative output array in which to place the result. It must have the same shape as the expected output, but the type of the output values will be cast if necessary. See Output type determination for more details.\n",
    "\n",
    "### _Returns_\n",
    "`rounded_array` : ndarray\n",
    "\n",
    "An array of the same type as a, containing the rounded values. Unless out was specified, a new array is created. A reference to the result is returned.\n",
    "\n",
    "The real and imaginary parts of complex numbers are rounded separately. The result of rounding a float is a float."
   ]
  },
  {
   "cell_type": "code",
   "execution_count": 2,
   "id": "510df484",
   "metadata": {},
   "outputs": [
    {
     "data": {
      "text/plain": [
       "array([0., 2.])"
      ]
     },
     "execution_count": 2,
     "metadata": {},
     "output_type": "execute_result"
    }
   ],
   "source": [
    "np.around([0.37, 1.64])"
   ]
  },
  {
   "cell_type": "code",
   "execution_count": 3,
   "id": "e7c444d6",
   "metadata": {},
   "outputs": [
    {
     "data": {
      "text/plain": [
       "array([0.4, 1.6])"
      ]
     },
     "execution_count": 3,
     "metadata": {},
     "output_type": "execute_result"
    }
   ],
   "source": [
    "np.around([0.37, 1.64], decimals = 1)"
   ]
  },
  {
   "cell_type": "code",
   "execution_count": 4,
   "id": "2c32d474",
   "metadata": {},
   "outputs": [
    {
     "data": {
      "text/plain": [
       "array([0., 2., 2., 4., 4.])"
      ]
     },
     "execution_count": 4,
     "metadata": {},
     "output_type": "execute_result"
    }
   ],
   "source": [
    "np.around([.5, 1.5, 2.5, 3.5, 4.5])"
   ]
  },
  {
   "cell_type": "code",
   "execution_count": 5,
   "id": "15660dbf",
   "metadata": {},
   "outputs": [
    {
     "data": {
      "text/plain": [
       "array([ 1,  2,  3, 11])"
      ]
     },
     "execution_count": 5,
     "metadata": {},
     "output_type": "execute_result"
    }
   ],
   "source": [
    "np.around([1,2,3,11], decimals = 1)"
   ]
  },
  {
   "cell_type": "code",
   "execution_count": 6,
   "id": "d2dfe74a",
   "metadata": {},
   "outputs": [
    {
     "data": {
      "text/plain": [
       "array([ 0,  0,  0, 10])"
      ]
     },
     "execution_count": 6,
     "metadata": {},
     "output_type": "execute_result"
    }
   ],
   "source": [
    "np.around([1, 2, 3, 11], decimals = -1)"
   ]
  },
  {
   "cell_type": "code",
   "execution_count": null,
   "id": "317a9752",
   "metadata": {},
   "outputs": [],
   "source": []
  }
 ],
 "metadata": {
  "kernelspec": {
   "display_name": "Python 3",
   "language": "python",
   "name": "python3"
  },
  "language_info": {
   "codemirror_mode": {
    "name": "ipython",
    "version": 3
   },
   "file_extension": ".py",
   "mimetype": "text/x-python",
   "name": "python",
   "nbconvert_exporter": "python",
   "pygments_lexer": "ipython3",
   "version": "3.8.8"
  }
 },
 "nbformat": 4,
 "nbformat_minor": 5
}
