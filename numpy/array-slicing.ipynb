{
 "cells": [
  {
   "cell_type": "code",
   "execution_count": 1,
   "id": "37b75f35",
   "metadata": {},
   "outputs": [],
   "source": [
    "import numpy as np"
   ]
  },
  {
   "cell_type": "markdown",
   "id": "75db15d3",
   "metadata": {},
   "source": [
    "### NumPy Array Slicing\n",
    "\n",
    "1. `[ i: j ]`\n",
    "2. `[ i: j: k ]`\n",
    "\n",
    "The basic slice syntax is `i: j: k` where `i` is the starting index, `j` is the stopping index, and `k` is the step `(k != 0)`. \n",
    "\n",
    "This selects the `m` elements (in the corresponding dimension) with index values `i, i + k, …, i + (m - 1)k` where `m = q + (r != 0)` and `q` and `r` are the quotient and remainder obtained by dividing `j - i` by `k: j - i = q k + r`, so that `i + (m - 1) k < j`. "
   ]
  },
  {
   "cell_type": "code",
   "execution_count": 27,
   "id": "0259058f",
   "metadata": {},
   "outputs": [],
   "source": [
    "src = np.array([1, 2, 3, 4, 5, 6, 7, 8, 9, 10])"
   ]
  },
  {
   "cell_type": "raw",
   "id": "430b06a6",
   "metadata": {},
   "source": [
    "elements - 1   2   3   4   5   6   7   8   9   10\n",
    "index    - 0   1   2   3   4   5   6   7   8    9"
   ]
  },
  {
   "cell_type": "code",
   "execution_count": 28,
   "id": "a076edab",
   "metadata": {},
   "outputs": [
    {
     "data": {
      "text/plain": [
       "array([ 2,  3,  4,  5,  6,  7,  8,  9, 10])"
      ]
     },
     "execution_count": 28,
     "metadata": {},
     "output_type": "execute_result"
    }
   ],
   "source": [
    "# slice elements from the index 1 to the end of the array\n",
    "src[1:]"
   ]
  },
  {
   "cell_type": "code",
   "execution_count": 29,
   "id": "6f00d040",
   "metadata": {},
   "outputs": [
    {
     "data": {
      "text/plain": [
       "array([ 5,  6,  7,  8,  9, 10])"
      ]
     },
     "execution_count": 29,
     "metadata": {},
     "output_type": "execute_result"
    }
   ],
   "source": [
    "# from the index 4 to the end of the array\n",
    "src[4:]"
   ]
  },
  {
   "cell_type": "code",
   "execution_count": 30,
   "id": "8fac33fa",
   "metadata": {},
   "outputs": [
    {
     "data": {
      "text/plain": [
       "array([2, 3])"
      ]
     },
     "execution_count": 30,
     "metadata": {},
     "output_type": "execute_result"
    }
   ],
   "source": [
    "# from the index 1 to the index 3 (not included)\n",
    "src[1:3]"
   ]
  },
  {
   "cell_type": "code",
   "execution_count": 31,
   "id": "8ae53b43",
   "metadata": {},
   "outputs": [
    {
     "data": {
      "text/plain": [
       "array([6, 7, 8, 9])"
      ]
     },
     "execution_count": 31,
     "metadata": {},
     "output_type": "execute_result"
    }
   ],
   "source": [
    "# from the index 5 to the index 9 (not included)\n",
    "src[5:9]"
   ]
  },
  {
   "cell_type": "code",
   "execution_count": 32,
   "id": "b4dd7a31",
   "metadata": {},
   "outputs": [
    {
     "data": {
      "text/plain": [
       "array([3, 5, 7, 9])"
      ]
     },
     "execution_count": 32,
     "metadata": {},
     "output_type": "execute_result"
    }
   ],
   "source": [
    "# from the index 2 to the index 9 (not included) with step 2\n",
    "src[2:9:2]"
   ]
  },
  {
   "cell_type": "code",
   "execution_count": 33,
   "id": "cb843191",
   "metadata": {},
   "outputs": [
    {
     "data": {
      "text/plain": [
       "array([2, 6])"
      ]
     },
     "execution_count": 33,
     "metadata": {},
     "output_type": "execute_result"
    }
   ],
   "source": [
    "# from the index 1 to the index 9 (not included) with step 4\n",
    "src[1:9:4]"
   ]
  },
  {
   "cell_type": "raw",
   "id": "483ef6a5",
   "metadata": {},
   "source": [
    "Negative Slicing\n",
    "\n",
    "\n",
    "elements - 1   2   3   4   5   6   7   8   9   10\n",
    "index    - 0   1   2   3   4   5   6   7   8    9\n",
    "\n",
    "Negative i and j are interpreted as n + i and n + j where n is the number of elements in the corresponding dimension. Negative k makes stepping go towards smaller indices. From the above example:"
   ]
  },
  {
   "cell_type": "code",
   "execution_count": 35,
   "id": "fdb0e800",
   "metadata": {},
   "outputs": [
    {
     "data": {
      "text/plain": [
       "array([ 8,  9, 10])"
      ]
     },
     "execution_count": 35,
     "metadata": {},
     "output_type": "execute_result"
    }
   ],
   "source": [
    "src[-3:]"
   ]
  },
  {
   "cell_type": "code",
   "execution_count": 34,
   "id": "5b450f6d",
   "metadata": {},
   "outputs": [
    {
     "data": {
      "text/plain": [
       "array([8, 9])"
      ]
     },
     "execution_count": 34,
     "metadata": {},
     "output_type": "execute_result"
    }
   ],
   "source": [
    "# from the index 3 from the end to index 1 from the end\n",
    "src[-3:-1]"
   ]
  },
  {
   "cell_type": "code",
   "execution_count": 38,
   "id": "ac9eac3b",
   "metadata": {},
   "outputs": [
    {
     "data": {
      "text/plain": [
       "array([5, 6, 7])"
      ]
     },
     "execution_count": 38,
     "metadata": {},
     "output_type": "execute_result"
    }
   ],
   "source": [
    "src[-6:-3]"
   ]
  },
  {
   "cell_type": "code",
   "execution_count": null,
   "id": "6b6058ae",
   "metadata": {},
   "outputs": [],
   "source": []
  }
 ],
 "metadata": {
  "kernelspec": {
   "display_name": "Python 3",
   "language": "python",
   "name": "python3"
  },
  "language_info": {
   "codemirror_mode": {
    "name": "ipython",
    "version": 3
   },
   "file_extension": ".py",
   "mimetype": "text/x-python",
   "name": "python",
   "nbconvert_exporter": "python",
   "pygments_lexer": "ipython3",
   "version": "3.8.8"
  }
 },
 "nbformat": 4,
 "nbformat_minor": 5
}
