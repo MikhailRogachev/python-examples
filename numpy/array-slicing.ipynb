{
 "cells": [
  {
   "cell_type": "code",
   "execution_count": 6,
   "id": "37b75f35",
   "metadata": {},
   "outputs": [],
   "source": [
    "import numpy as np"
   ]
  },
  {
   "cell_type": "markdown",
   "id": "75db15d3",
   "metadata": {},
   "source": [
    "## NumPy Array Slicing\n",
    "\n",
    "1. `[ i: j ]`\n",
    "2. `[ i: j: k ]`\n",
    "\n",
    "The basic slice syntax is `i: j: k` where `i` is the starting index, `j` is the stopping index, and `k` is the step `(k != 0)`. \n",
    "\n",
    "This selects the `m` elements (in the corresponding dimension) with index values `i, i + k, …, i + (m - 1)k` where `m = q + (r != 0)` and `q` and `r` are the quotient and remainder obtained by dividing `j - i` by `k: j - i = q k + r`, so that `i + (m - 1) k < j`. \n",
    "\n",
    "# Another words: The slice extends from the ‘i’ index and ends one item before the ‘j’ index."
   ]
  },
  {
   "cell_type": "code",
   "execution_count": 7,
   "id": "0259058f",
   "metadata": {},
   "outputs": [],
   "source": [
    "src = np.array([1, 2, 3, 4, 5, 6, 7, 8, 9, 10])"
   ]
  },
  {
   "cell_type": "raw",
   "id": "430b06a6",
   "metadata": {},
   "source": [
    "elements - 1   2   3   4   5   6   7   8   9   10\n",
    "index    - 0   1   2   3   4   5   6   7   8    9"
   ]
  },
  {
   "cell_type": "code",
   "execution_count": 9,
   "id": "4dafbad1",
   "metadata": {},
   "outputs": [
    {
     "data": {
      "text/plain": [
       "array([ 1,  2,  3,  4,  5,  6,  7,  8,  9, 10])"
      ]
     },
     "execution_count": 9,
     "metadata": {},
     "output_type": "execute_result"
    }
   ],
   "source": [
    "# access all data in an array dimension by specifying the slice ‘:’ with no indexes\n",
    "src[:]"
   ]
  },
  {
   "cell_type": "code",
   "execution_count": 10,
   "id": "73553f29",
   "metadata": {},
   "outputs": [
    {
     "data": {
      "text/plain": [
       "array([1])"
      ]
     },
     "execution_count": 10,
     "metadata": {},
     "output_type": "execute_result"
    }
   ],
   "source": [
    "# The first item of the array can be sliced by specifying a slice that starts at index 0 \n",
    "# and ends at index 1 (one item before the ‘to’ index).\n",
    "src[0:1]"
   ]
  },
  {
   "cell_type": "code",
   "execution_count": 28,
   "id": "a076edab",
   "metadata": {},
   "outputs": [
    {
     "data": {
      "text/plain": [
       "array([ 2,  3,  4,  5,  6,  7,  8,  9, 10])"
      ]
     },
     "execution_count": 28,
     "metadata": {},
     "output_type": "execute_result"
    }
   ],
   "source": [
    "# slice elements from the index 1 to the end of the array\n",
    "src[1:]"
   ]
  },
  {
   "cell_type": "code",
   "execution_count": 29,
   "id": "6f00d040",
   "metadata": {},
   "outputs": [
    {
     "data": {
      "text/plain": [
       "array([ 5,  6,  7,  8,  9, 10])"
      ]
     },
     "execution_count": 29,
     "metadata": {},
     "output_type": "execute_result"
    }
   ],
   "source": [
    "# from the index 4 to the end of the array\n",
    "src[4:]"
   ]
  },
  {
   "cell_type": "code",
   "execution_count": 30,
   "id": "8fac33fa",
   "metadata": {},
   "outputs": [
    {
     "data": {
      "text/plain": [
       "array([2, 3])"
      ]
     },
     "execution_count": 30,
     "metadata": {},
     "output_type": "execute_result"
    }
   ],
   "source": [
    "# from the index 1 to the index 3 (not included)\n",
    "src[1:3]"
   ]
  },
  {
   "cell_type": "code",
   "execution_count": 31,
   "id": "8ae53b43",
   "metadata": {},
   "outputs": [
    {
     "data": {
      "text/plain": [
       "array([6, 7, 8, 9])"
      ]
     },
     "execution_count": 31,
     "metadata": {},
     "output_type": "execute_result"
    }
   ],
   "source": [
    "# from the index 5 to the index 9 (not included)\n",
    "src[5:9]"
   ]
  },
  {
   "cell_type": "code",
   "execution_count": 32,
   "id": "b4dd7a31",
   "metadata": {},
   "outputs": [
    {
     "data": {
      "text/plain": [
       "array([3, 5, 7, 9])"
      ]
     },
     "execution_count": 32,
     "metadata": {},
     "output_type": "execute_result"
    }
   ],
   "source": [
    "# from the index 2 to the index 9 (not included) with step 2\n",
    "src[2:9:2]"
   ]
  },
  {
   "cell_type": "code",
   "execution_count": 33,
   "id": "cb843191",
   "metadata": {},
   "outputs": [
    {
     "data": {
      "text/plain": [
       "array([2, 6])"
      ]
     },
     "execution_count": 33,
     "metadata": {},
     "output_type": "execute_result"
    }
   ],
   "source": [
    "# from the index 1 to the index 9 (not included) with step 4\n",
    "src[1:9:4]"
   ]
  },
  {
   "cell_type": "raw",
   "id": "483ef6a5",
   "metadata": {},
   "source": [
    "Negative Slicing\n",
    "\n",
    "\n",
    "elements - 1   2   3   4   5   6   7   8   9   10\n",
    "index    - 0   1   2   3   4   5   6   7   8    9\n",
    "\n",
    "Negative i and j are interpreted as n + i and n + j where n is the number of elements in the corresponding dimension. Negative k makes stepping go towards smaller indices. From the above example:"
   ]
  },
  {
   "cell_type": "code",
   "execution_count": 11,
   "id": "fdb0e800",
   "metadata": {},
   "outputs": [
    {
     "data": {
      "text/plain": [
       "array([ 9, 10])"
      ]
     },
     "execution_count": 11,
     "metadata": {},
     "output_type": "execute_result"
    }
   ],
   "source": [
    "# slice the last two items in the list by starting the slice at -2 \n",
    "# (the second last item) and not specifying a ‘to’ index; that takes \n",
    "# the slice to the end of the dimension.\n",
    "src[-2:]"
   ]
  },
  {
   "cell_type": "code",
   "execution_count": 34,
   "id": "5b450f6d",
   "metadata": {},
   "outputs": [
    {
     "data": {
      "text/plain": [
       "array([8, 9])"
      ]
     },
     "execution_count": 34,
     "metadata": {},
     "output_type": "execute_result"
    }
   ],
   "source": [
    "# from the index 3 from the end to index 1 from the end\n",
    "src[-3:-1]"
   ]
  },
  {
   "cell_type": "code",
   "execution_count": 38,
   "id": "ac9eac3b",
   "metadata": {},
   "outputs": [
    {
     "data": {
      "text/plain": [
       "array([5, 6, 7])"
      ]
     },
     "execution_count": 38,
     "metadata": {},
     "output_type": "execute_result"
    }
   ],
   "source": [
    "src[-6:-3]"
   ]
  },
  {
   "cell_type": "markdown",
   "id": "1932c28a",
   "metadata": {},
   "source": [
    "## Two-Dimensional Slicing\n",
    "\n",
    "#### Split Input and Output Features\n",
    "It is common to split your loaded data into input variables (X) and the output variable (y).\n",
    "\n",
    "We can do this by slicing all rows and all columns up to, but before the last column, then separately indexing the last column.\n",
    "\n",
    "For the input features, we can select all rows and all columns except the last one by specifying ‘:’ for in the rows index, and :-1 in the columns index."
   ]
  },
  {
   "cell_type": "code",
   "execution_count": 14,
   "id": "902baf62",
   "metadata": {},
   "outputs": [],
   "source": [
    "# define array\n",
    "data = np.array([[11, 22, 33],[44, 55, 66],[77, 88, 99]])"
   ]
  },
  {
   "cell_type": "code",
   "execution_count": 15,
   "id": "f9acd66a",
   "metadata": {},
   "outputs": [
    {
     "name": "stdout",
     "output_type": "stream",
     "text": [
      "[[11 22]\n",
      " [44 55]\n",
      " [77 88]]\n",
      "[33 66 99]\n"
     ]
    }
   ],
   "source": [
    "# separate data - variant 1\n",
    "x, y = data[:, :-1], data[:, -1]\n",
    "print(x)\n",
    "print(y)"
   ]
  },
  {
   "cell_type": "code",
   "execution_count": 16,
   "id": "45d93e73",
   "metadata": {},
   "outputs": [
    {
     "name": "stdout",
     "output_type": "stream",
     "text": [
      "[[11]\n",
      " [44]\n",
      " [77]]\n",
      "[22 55 88]\n"
     ]
    }
   ],
   "source": [
    "# separate data - variant 2\n",
    "a, b = data[:, :-2], data[:, 1]\n",
    "print(a)\n",
    "print(b)"
   ]
  },
  {
   "cell_type": "code",
   "execution_count": 17,
   "id": "8689af0f",
   "metadata": {},
   "outputs": [
    {
     "name": "stdout",
     "output_type": "stream",
     "text": [
      "[[11]]\n",
      "[22 55 88]\n"
     ]
    }
   ],
   "source": [
    "# separate data - variant 3\n",
    "a, b = data[0:1, :-2], data[:, 1]\n",
    "print(a)\n",
    "print(b)"
   ]
  },
  {
   "cell_type": "code",
   "execution_count": null,
   "id": "fb2b6aaf",
   "metadata": {},
   "outputs": [],
   "source": []
  }
 ],
 "metadata": {
  "kernelspec": {
   "display_name": "Python 3",
   "language": "python",
   "name": "python3"
  },
  "language_info": {
   "codemirror_mode": {
    "name": "ipython",
    "version": 3
   },
   "file_extension": ".py",
   "mimetype": "text/x-python",
   "name": "python",
   "nbconvert_exporter": "python",
   "pygments_lexer": "ipython3",
   "version": "3.8.8"
  }
 },
 "nbformat": 4,
 "nbformat_minor": 5
}
