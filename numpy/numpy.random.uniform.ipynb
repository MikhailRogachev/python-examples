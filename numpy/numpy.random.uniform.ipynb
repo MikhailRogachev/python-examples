{
 "cells": [
  {
   "cell_type": "code",
   "execution_count": 2,
   "id": "1c297420",
   "metadata": {},
   "outputs": [],
   "source": [
    "import numpy as np\n",
    "import matplotlib.pyplot as plt"
   ]
  },
  {
   "cell_type": "markdown",
   "id": "ac3f632a",
   "metadata": {},
   "source": [
    "## random.uniform(low=0.0, high=1.0, size=None)\n",
    "\n",
    "https://numpy.org/doc/stable/reference/random/generated/numpy.random.uniform.html\n",
    "\n",
    "Draw samples from a uniform distribution (равномерное распределение).\n",
    "\n",
    "Samples are uniformly distributed over the half-open interval `[low, high)` (includes low, but excludes high). \n",
    "In other words, any value within the given interval is equally likely to be drawn by uniform.\n",
    "\n",
    "### Parameters:\n",
    "\n",
    "`low`  : float or array_like of floats, optional\n",
    "\n",
    "Lower boundary of the output interval. All values generated will be greater than or equal to low. \n",
    "The default value is 0.\n",
    "\n",
    "\n",
    "`high`   : float or array_like of floats\n",
    "\n",
    "Upper boundary of the output interval. All values generated will be less than or equal to high.\n",
    "\n",
    "The high limit may be included in the returned array of floats due to floating-point rounding\n",
    "in the equation `low + (high-low) * random_sample()`. The default value is 1.0.\n",
    "\n",
    "`size`    : int or tuple of ints, optional\n",
    "\n",
    "Output shape. If the given shape is, e.g., (m, n, k), then `m * n * k` samples are drawn. If size is None (default), a single value is returned if low and high are both scalars. Otherwise, np.broadcast(low, high).size samples are drawn.\n",
    "\n",
    "### Returns\n",
    "`out`   : ndarray or scalar\n",
    "\n",
    "Drawn samples from the parameterized uniform distribution."
   ]
  },
  {
   "attachments": {
    "image.png": {
     "image/png": "[encoded data removed]"
    }
   },
   "cell_type": "markdown",
   "id": "22acd331",
   "metadata": {},
   "source": [
    "Notes\n",
    "\n",
    "The probability density function of the uniform distribution is\n",
    "\n",
    "![image.png](attachment:image.png)\n",
    "\n",
    "anywhere within the interval [a, b), and zero elsewhere.\n",
    "\n",
    "When high == low, values of low will be returned. If high < low, the results are officially undefined and may eventually raise an error, i.e. do not rely on this function to behave when passed arguments satisfying that inequality condition. The high limit may be included in the returned array of floats due to floating-point rounding in the equation low + (high-low) * random_sample(). For example:"
   ]
  },
  {
   "cell_type": "code",
   "execution_count": 4,
   "id": "0058430f",
   "metadata": {},
   "outputs": [],
   "source": [
    "def show_result(src):\n",
    "    \n",
    "    count, bins, ignored = plt.hist(src, 15, density = True)\n",
    "    plt.plot(bins, np.ones_like(bins), linewidth = 2, color = 'r')\n",
    "    plt.show()"
   ]
  },
  {
   "cell_type": "code",
   "execution_count": 5,
   "id": "17dd5974",
   "metadata": {},
   "outputs": [
    {
     "data": {
      "image/png": "[encoded data removed]",
      "text/plain": [
       "<Figure size 432x288 with 1 Axes>"
      ]
     },
     "metadata": {
      "needs_background": "light"
     },
     "output_type": "display_data"
    }
   ],
   "source": [
    "s = np.random.uniform(-1, 0, 1000)\n",
    "show_result(s)"
   ]
  },
  {
   "cell_type": "code",
   "execution_count": 7,
   "id": "07351e1f",
   "metadata": {},
   "outputs": [
    {
     "data": {
      "image/png": "[encoded data removed]",
      "text/plain": [
       "<Figure size 432x288 with 1 Axes>"
      ]
     },
     "metadata": {
      "needs_background": "light"
     },
     "output_type": "display_data"
    }
   ],
   "source": [
    "a = np.random.uniform(-3, 3, 50)\n",
    "show_result(a)"
   ]
  },
  {
   "cell_type": "code",
   "execution_count": 8,
   "id": "b17aa27a",
   "metadata": {},
   "outputs": [
    {
     "data": {
      "image/png": "[encoded data removed]",
      "text/plain": [
       "<Figure size 432x288 with 1 Axes>"
      ]
     },
     "metadata": {
      "needs_background": "light"
     },
     "output_type": "display_data"
    }
   ],
   "source": [
    "b = np.random.uniform(0.01, 0.05, 1)\n",
    "show_result(b)"
   ]
  },
  {
   "cell_type": "code",
   "execution_count": null,
   "id": "1d83aa0e",
   "metadata": {},
   "outputs": [],
   "source": []
  }
 ],
 "metadata": {
  "kernelspec": {
   "display_name": "Python 3",
   "language": "python",
   "name": "python3"
  },
  "language_info": {
   "codemirror_mode": {
    "name": "ipython",
    "version": 3
   },
   "file_extension": ".py",
   "mimetype": "text/x-python",
   "name": "python",
   "nbconvert_exporter": "python",
   "pygments_lexer": "ipython3",
   "version": "3.8.8"
  }
 },
 "nbformat": 4,
 "nbformat_minor": 5
}
