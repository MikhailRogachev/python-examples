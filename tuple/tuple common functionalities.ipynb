{
 "cells": [
  {
   "cell_type": "markdown",
   "id": "5073ed25",
   "metadata": {},
   "source": [
    "# Tuple - common functionalities"
   ]
  },
  {
   "cell_type": "markdown",
   "id": "df983eda",
   "metadata": {},
   "source": [
    "## New empty tuple"
   ]
  },
  {
   "cell_type": "code",
   "execution_count": 2,
   "id": "75ae2fb9",
   "metadata": {},
   "outputs": [],
   "source": [
    "my_tuple = ()"
   ]
  },
  {
   "cell_type": "code",
   "execution_count": 3,
   "id": "9305b370",
   "metadata": {},
   "outputs": [
    {
     "name": "stdout",
     "output_type": "stream",
     "text": [
      "()\n"
     ]
    }
   ],
   "source": [
    "print(my_tuple)"
   ]
  },
  {
   "cell_type": "code",
   "execution_count": 4,
   "id": "472ab4d5",
   "metadata": {},
   "outputs": [
    {
     "name": "stdout",
     "output_type": "stream",
     "text": [
      "<class 'tuple'>\n"
     ]
    }
   ],
   "source": [
    "print(type(my_tuple))"
   ]
  },
  {
   "cell_type": "markdown",
   "id": "d9c4e1ba",
   "metadata": {},
   "source": [
    "## One-item tuple"
   ]
  },
  {
   "cell_type": "code",
   "execution_count": 10,
   "id": "4caf72fe",
   "metadata": {},
   "outputs": [],
   "source": [
    "my_tuple = (1,)"
   ]
  },
  {
   "cell_type": "code",
   "execution_count": 11,
   "id": "e19378c1",
   "metadata": {},
   "outputs": [
    {
     "name": "stdout",
     "output_type": "stream",
     "text": [
      "(1,)\n",
      "<class 'tuple'>\n"
     ]
    }
   ],
   "source": [
    "print(my_tuple)\n",
    "print(type(my_tuple))"
   ]
  },
  {
   "cell_type": "code",
   "execution_count": 12,
   "id": "5dd9056f",
   "metadata": {},
   "outputs": [],
   "source": [
    "my_tuple = (1)"
   ]
  },
  {
   "cell_type": "code",
   "execution_count": 13,
   "id": "0d2fb94b",
   "metadata": {},
   "outputs": [
    {
     "name": "stdout",
     "output_type": "stream",
     "text": [
      "1\n",
      "<class 'int'>\n"
     ]
    }
   ],
   "source": [
    "print(my_tuple)\n",
    "print(type(my_tuple))"
   ]
  },
  {
   "cell_type": "markdown",
   "id": "26fd6a88",
   "metadata": {},
   "source": [
    "## Three-item tuple, can also be declared without brackets"
   ]
  },
  {
   "cell_type": "code",
   "execution_count": 14,
   "id": "3335184c",
   "metadata": {},
   "outputs": [],
   "source": [
    "my_tuple = (1, 2, 3)"
   ]
  },
  {
   "cell_type": "code",
   "execution_count": 15,
   "id": "6457c03b",
   "metadata": {},
   "outputs": [
    {
     "name": "stdout",
     "output_type": "stream",
     "text": [
      "(1, 2, 3)\n"
     ]
    }
   ],
   "source": [
    "print(my_tuple)"
   ]
  },
  {
   "cell_type": "code",
   "execution_count": 17,
   "id": "fe04673c",
   "metadata": {},
   "outputs": [
    {
     "name": "stdout",
     "output_type": "stream",
     "text": [
      "3\n"
     ]
    }
   ],
   "source": [
    "print(len(my_tuple))"
   ]
  },
  {
   "cell_type": "markdown",
   "id": "a6449840",
   "metadata": {},
   "source": [
    "## Creates a tuple out of an iterable"
   ]
  },
  {
   "cell_type": "code",
   "execution_count": 21,
   "id": "4760deaf",
   "metadata": {},
   "outputs": [],
   "source": [
    "my_tuple = tuple('MYSQL56')"
   ]
  },
  {
   "cell_type": "code",
   "execution_count": 22,
   "id": "c9d60df0",
   "metadata": {},
   "outputs": [
    {
     "name": "stdout",
     "output_type": "stream",
     "text": [
      "('M', 'Y', 'S', 'Q', 'L', '5', '6')\n",
      "7\n"
     ]
    }
   ],
   "source": [
    "print(my_tuple)\n",
    "print(len(my_tuple))"
   ]
  },
  {
   "cell_type": "code",
   "execution_count": 23,
   "id": "de51961f",
   "metadata": {},
   "outputs": [
    {
     "data": {
      "text/plain": [
       "('M', 'Y', 'S', 'Q', 'L', '5', '6')"
      ]
     },
     "execution_count": 23,
     "metadata": {},
     "output_type": "execute_result"
    }
   ],
   "source": [
    "my_tuple"
   ]
  },
  {
   "cell_type": "markdown",
   "id": "5a3dd83f",
   "metadata": {},
   "source": [
    "## Index"
   ]
  },
  {
   "cell_type": "code",
   "execution_count": 39,
   "id": "a99675ae",
   "metadata": {},
   "outputs": [],
   "source": [
    "my_tuple = (1, 2, 3, 'SQL')"
   ]
  },
  {
   "cell_type": "code",
   "execution_count": 40,
   "id": "29e01ca1",
   "metadata": {},
   "outputs": [
    {
     "name": "stdout",
     "output_type": "stream",
     "text": [
      "(1, 2, 3, 'SQL')\n",
      "4\n"
     ]
    }
   ],
   "source": [
    "print(my_tuple)\n",
    "print(len(my_tuple))"
   ]
  },
  {
   "cell_type": "code",
   "execution_count": 41,
   "id": "8bbc2a28",
   "metadata": {},
   "outputs": [
    {
     "name": "stdout",
     "output_type": "stream",
     "text": [
      "SQL\n"
     ]
    }
   ],
   "source": [
    "print(my_tuple[3])"
   ]
  },
  {
   "cell_type": "code",
   "execution_count": 42,
   "id": "9a6e3690",
   "metadata": {},
   "outputs": [
    {
     "ename": "IndexError",
     "evalue": "tuple index out of range",
     "output_type": "error",
     "traceback": [
      "\u001b[1;31m---------------------------------------------------------------------------\u001b[0m",
      "\u001b[1;31mIndexError\u001b[0m                                Traceback (most recent call last)",
      "\u001b[1;32m~\\AppData\\Local\\Temp/ipykernel_10160/1676875365.py\u001b[0m in \u001b[0;36m<module>\u001b[1;34m\u001b[0m\n\u001b[1;32m----> 1\u001b[1;33m \u001b[0mprint\u001b[0m\u001b[1;33m(\u001b[0m\u001b[0mmy_tuple\u001b[0m\u001b[1;33m[\u001b[0m\u001b[1;36m4\u001b[0m\u001b[1;33m]\u001b[0m\u001b[1;33m)\u001b[0m\u001b[1;33m\u001b[0m\u001b[1;33m\u001b[0m\u001b[0m\n\u001b[0m",
      "\u001b[1;31mIndexError\u001b[0m: tuple index out of range"
     ]
    }
   ],
   "source": [
    "print(my_tuple[4])"
   ]
  },
  {
   "cell_type": "markdown",
   "id": "f66d71a1",
   "metadata": {},
   "source": [
    "## Index of index"
   ]
  },
  {
   "cell_type": "raw",
   "id": "12145eb2",
   "metadata": {},
   "source": [
    "my_tuple[i][j]"
   ]
  },
  {
   "cell_type": "code",
   "execution_count": 45,
   "id": "67e69f47",
   "metadata": {},
   "outputs": [],
   "source": [
    "my_tuple = (1, 2, 3, (10, 11))"
   ]
  },
  {
   "cell_type": "markdown",
   "id": "f0ca1873",
   "metadata": {},
   "source": [
    "print(my_tuple)\n",
    "print(my_tuple[3][0])"
   ]
  },
  {
   "cell_type": "code",
   "execution_count": 47,
   "id": "1eb7a410",
   "metadata": {},
   "outputs": [],
   "source": [
    "my_tuple = (1, 2, 3, 'SQL')"
   ]
  },
  {
   "cell_type": "code",
   "execution_count": 48,
   "id": "460d3abb",
   "metadata": {},
   "outputs": [
    {
     "name": "stdout",
     "output_type": "stream",
     "text": [
      "(1, 2, 3, 'SQL')\n",
      "S\n"
     ]
    }
   ],
   "source": [
    "print(my_tuple)\n",
    "print(my_tuple[3][0])"
   ]
  },
  {
   "cell_type": "markdown",
   "id": "a7a88591",
   "metadata": {},
   "source": [
    "## Slice of tuple. If last index is not supplied, everything up to the end of the tuple is returned."
   ]
  },
  {
   "cell_type": "code",
   "execution_count": 56,
   "id": "0344f879",
   "metadata": {},
   "outputs": [
    {
     "name": "stdout",
     "output_type": "stream",
     "text": [
      "(2, 3)\n",
      "(2, 3, (10, 11))\n"
     ]
    }
   ],
   "source": [
    "my_tuple = (1, 2, 3, (10, 11))\n",
    "print(my_tuple[1: 3])\n",
    "print(my_tuple[1: 23])"
   ]
  },
  {
   "cell_type": "code",
   "execution_count": 57,
   "id": "f4af45b8",
   "metadata": {},
   "outputs": [
    {
     "name": "stdout",
     "output_type": "stream",
     "text": [
      "(2, 3)\n",
      "(2, 3, 'SQL')\n"
     ]
    }
   ],
   "source": [
    "my_tuple = (1, 2, 3, 'SQL')\n",
    "print(my_tuple[1: 3])\n",
    "print(my_tuple[1: 23])"
   ]
  },
  {
   "cell_type": "markdown",
   "id": "c3100860",
   "metadata": {},
   "source": [
    "## Tuple length"
   ]
  },
  {
   "cell_type": "raw",
   "id": "f70f77d4",
   "metadata": {},
   "source": [
    "len(my_tuple)"
   ]
  },
  {
   "cell_type": "code",
   "execution_count": 58,
   "id": "7f0eb5f5",
   "metadata": {},
   "outputs": [
    {
     "name": "stdout",
     "output_type": "stream",
     "text": [
      "5\n"
     ]
    }
   ],
   "source": [
    "my_tuple = (1, 2, 3, 4, 5)\n",
    "print(len(my_tuple))"
   ]
  },
  {
   "cell_type": "code",
   "execution_count": 59,
   "id": "bb4bed8d",
   "metadata": {},
   "outputs": [
    {
     "name": "stdout",
     "output_type": "stream",
     "text": [
      "4\n"
     ]
    }
   ],
   "source": [
    "my_tuple = (1, 2, 3, (10, 11))\n",
    "print(len(my_tuple))"
   ]
  },
  {
   "cell_type": "code",
   "execution_count": 60,
   "id": "69e608e0",
   "metadata": {},
   "outputs": [
    {
     "name": "stdout",
     "output_type": "stream",
     "text": [
      "4\n"
     ]
    }
   ],
   "source": [
    "my_tuple = (1, 2, 3, 'SQL')\n",
    "print(len(my_tuple))"
   ]
  },
  {
   "cell_type": "markdown",
   "id": "7c048aa5",
   "metadata": {},
   "source": [
    "## Concatenation"
   ]
  },
  {
   "cell_type": "raw",
   "id": "5ec9ba5d",
   "metadata": {},
   "source": [
    "my_tuple1 + my_tuple2"
   ]
  },
  {
   "cell_type": "code",
   "execution_count": 62,
   "id": "53b7fda1",
   "metadata": {},
   "outputs": [
    {
     "name": "stdout",
     "output_type": "stream",
     "text": [
      "(1, 2, 3, 'SQL', 1, 2, 3, (10, 11))\n"
     ]
    }
   ],
   "source": [
    "my_tuple1 = (1, 2, 3, 'SQL')\n",
    "my_tuple2 = (1, 2, 3, (10, 11))\n",
    "my_tuple = my_tuple1 + my_tuple2\n",
    "\n",
    "print(my_tuple)"
   ]
  },
  {
   "cell_type": "code",
   "execution_count": 65,
   "id": "2486f807",
   "metadata": {},
   "outputs": [
    {
     "name": "stdout",
     "output_type": "stream",
     "text": [
      "8\n"
     ]
    }
   ],
   "source": [
    "print(len(my_tuple))"
   ]
  },
  {
   "cell_type": "markdown",
   "id": "5179c080",
   "metadata": {},
   "source": [
    "## Tuple repeat"
   ]
  },
  {
   "cell_type": "raw",
   "id": "25e18097",
   "metadata": {},
   "source": [
    "my_tuple * 3"
   ]
  },
  {
   "cell_type": "code",
   "execution_count": 67,
   "id": "3f2380af",
   "metadata": {},
   "outputs": [
    {
     "name": "stdout",
     "output_type": "stream",
     "text": [
      "(1, 2, 3, 'SQL', 1, 2, 3, 'SQL', 1, 2, 3, 'SQL')\n"
     ]
    }
   ],
   "source": [
    "my_tuple = (1, 2, 3, 'SQL')\n",
    "print(my_tuple * 3)"
   ]
  },
  {
   "cell_type": "markdown",
   "id": "b1e6eb28",
   "metadata": {},
   "source": [
    "## Membership check"
   ]
  },
  {
   "cell_type": "raw",
   "id": "c38e392e",
   "metadata": {},
   "source": [
    "x in my_tuple"
   ]
  },
  {
   "cell_type": "code",
   "execution_count": 68,
   "id": "f83d2062",
   "metadata": {},
   "outputs": [],
   "source": [
    "my_tuple = (1, 2, 3, 'SQL')"
   ]
  },
  {
   "cell_type": "code",
   "execution_count": 69,
   "id": "34f8ecb9",
   "metadata": {},
   "outputs": [
    {
     "name": "stdout",
     "output_type": "stream",
     "text": [
      "False\n"
     ]
    }
   ],
   "source": [
    "print(4 in my_tuple)"
   ]
  },
  {
   "cell_type": "code",
   "execution_count": 70,
   "id": "0d30d1ae",
   "metadata": {},
   "outputs": [
    {
     "name": "stdout",
     "output_type": "stream",
     "text": [
      "True\n"
     ]
    }
   ],
   "source": [
    "print(1 in my_tuple)"
   ]
  },
  {
   "cell_type": "code",
   "execution_count": 71,
   "id": "a918e3c4",
   "metadata": {},
   "outputs": [
    {
     "name": "stdout",
     "output_type": "stream",
     "text": [
      "False\n"
     ]
    }
   ],
   "source": [
    "print('S' in my_tuple)"
   ]
  },
  {
   "cell_type": "code",
   "execution_count": 72,
   "id": "9f8fb8d2",
   "metadata": {},
   "outputs": [
    {
     "name": "stdout",
     "output_type": "stream",
     "text": [
      "True\n"
     ]
    }
   ],
   "source": [
    "print('SQL' in my_tuple)"
   ]
  },
  {
   "cell_type": "code",
   "execution_count": 73,
   "id": "5cc41755",
   "metadata": {},
   "outputs": [
    {
     "name": "stdout",
     "output_type": "stream",
     "text": [
      "False\n"
     ]
    }
   ],
   "source": [
    "print('sQL' in my_tuple)"
   ]
  },
  {
   "cell_type": "markdown",
   "id": "c00c334f",
   "metadata": {},
   "source": [
    "## Iteration"
   ]
  },
  {
   "cell_type": "code",
   "execution_count": 74,
   "id": "a1628b28",
   "metadata": {},
   "outputs": [],
   "source": [
    "my_tuple = (1, 2, 3, 'SQL')"
   ]
  },
  {
   "cell_type": "code",
   "execution_count": 75,
   "id": "c46c46ef",
   "metadata": {},
   "outputs": [
    {
     "name": "stdout",
     "output_type": "stream",
     "text": [
      "1\n",
      "2\n",
      "3\n",
      "SQL\n"
     ]
    }
   ],
   "source": [
    "for i in my_tuple:\n",
    "    print(i)"
   ]
  }
 ],
 "metadata": {
  "kernelspec": {
   "display_name": "Python 3 (ipykernel)",
   "language": "python",
   "name": "python3"
  },
  "language_info": {
   "codemirror_mode": {
    "name": "ipython",
    "version": 3
   },
   "file_extension": ".py",
   "mimetype": "text/x-python",
   "name": "python",
   "nbconvert_exporter": "python",
   "pygments_lexer": "ipython3",
   "version": "3.9.7"
  },
  "toc": {
   "base_numbering": 1,
   "nav_menu": {},
   "number_sections": true,
   "sideBar": true,
   "skip_h1_title": true,
   "title_cell": "Table of Contents",
   "title_sidebar": "Contents",
   "toc_cell": false,
   "toc_position": {},
   "toc_section_display": true,
   "toc_window_display": true
  },
  "varInspector": {
   "cols": {
    "lenName": 16,
    "lenType": 16,
    "lenVar": 40
   },
   "kernels_config": {
    "python": {
     "delete_cmd_postfix": "",
     "delete_cmd_prefix": "del ",
     "library": "var_list.py",
     "varRefreshCmd": "print(var_dic_list())"
    },
    "r": {
     "delete_cmd_postfix": ") ",
     "delete_cmd_prefix": "rm(",
     "library": "var_list.r",
     "varRefreshCmd": "cat(var_dic_list()) "
    }
   },
   "position": {
    "height": "304.85px",
    "left": "1149.2px",
    "right": "20px",
    "top": "120px",
    "width": "350px"
   },
   "types_to_exclude": [
    "module",
    "function",
    "builtin_function_or_method",
    "instance",
    "_Feature"
   ],
   "window_display": false
  }
 },
 "nbformat": 4,
 "nbformat_minor": 5
}
