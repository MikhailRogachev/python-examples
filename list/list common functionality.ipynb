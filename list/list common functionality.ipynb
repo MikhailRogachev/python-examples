{
 "cells": [
  {
   "cell_type": "markdown",
   "id": "64e1b307",
   "metadata": {},
   "source": [
    "# Common operations"
   ]
  },
  {
   "cell_type": "markdown",
   "id": "3b17d861",
   "metadata": {},
   "source": [
    "## New empty list"
   ]
  },
  {
   "cell_type": "raw",
   "id": "5d35d1f0",
   "metadata": {},
   "source": [
    "[]"
   ]
  },
  {
   "cell_type": "code",
   "execution_count": 1,
   "id": "cd794554",
   "metadata": {},
   "outputs": [],
   "source": [
    "my_list = []"
   ]
  },
  {
   "cell_type": "code",
   "execution_count": 2,
   "id": "51296cb0",
   "metadata": {},
   "outputs": [
    {
     "name": "stdout",
     "output_type": "stream",
     "text": [
      "[]\n"
     ]
    }
   ],
   "source": [
    "print(my_list)"
   ]
  },
  {
   "cell_type": "code",
   "execution_count": 3,
   "id": "5d757e2c",
   "metadata": {},
   "outputs": [
    {
     "name": "stdout",
     "output_type": "stream",
     "text": [
      "<class 'list'>\n"
     ]
    }
   ],
   "source": [
    "print(type(my_list))"
   ]
  },
  {
   "cell_type": "code",
   "execution_count": 4,
   "id": "eba53d8a",
   "metadata": {},
   "outputs": [
    {
     "name": "stdout",
     "output_type": "stream",
     "text": [
      "0\n"
     ]
    }
   ],
   "source": [
    "print(len(my_list))"
   ]
  },
  {
   "cell_type": "markdown",
   "id": "f25fa391",
   "metadata": {},
   "source": [
    "## New list with three elements"
   ]
  },
  {
   "cell_type": "code",
   "execution_count": 5,
   "id": "0bfb19fa",
   "metadata": {},
   "outputs": [],
   "source": [
    "my_list = [1, 2, 3]"
   ]
  },
  {
   "cell_type": "code",
   "execution_count": 6,
   "id": "68a71e10",
   "metadata": {},
   "outputs": [
    {
     "name": "stdout",
     "output_type": "stream",
     "text": [
      "[1, 2, 3]\n"
     ]
    }
   ],
   "source": [
    "print(my_list)"
   ]
  },
  {
   "cell_type": "code",
   "execution_count": 7,
   "id": "605ce224",
   "metadata": {},
   "outputs": [
    {
     "name": "stdout",
     "output_type": "stream",
     "text": [
      "3\n"
     ]
    }
   ],
   "source": [
    "print(len(my_list))"
   ]
  },
  {
   "cell_type": "markdown",
   "id": "0c8d874a",
   "metadata": {},
   "source": [
    "## New list with a nested list"
   ]
  },
  {
   "cell_type": "code",
   "execution_count": 24,
   "id": "7f4d544a",
   "metadata": {},
   "outputs": [],
   "source": [
    "my_list = [1, 2, [3, 4]]"
   ]
  },
  {
   "cell_type": "code",
   "execution_count": 25,
   "id": "b40884e4",
   "metadata": {},
   "outputs": [
    {
     "name": "stdout",
     "output_type": "stream",
     "text": [
      "<class 'list'>\n"
     ]
    }
   ],
   "source": [
    "print(type(my_list))"
   ]
  },
  {
   "cell_type": "code",
   "execution_count": 26,
   "id": "41b9929b",
   "metadata": {},
   "outputs": [
    {
     "name": "stdout",
     "output_type": "stream",
     "text": [
      "[1, 2, [3, 4]]\n"
     ]
    }
   ],
   "source": [
    "print(my_list)"
   ]
  },
  {
   "cell_type": "code",
   "execution_count": 27,
   "id": "7fbc7f7a",
   "metadata": {},
   "outputs": [
    {
     "name": "stdout",
     "output_type": "stream",
     "text": [
      "3\n"
     ]
    }
   ],
   "source": [
    "print(len(my_list))"
   ]
  },
  {
   "cell_type": "code",
   "execution_count": 28,
   "id": "cfff257d",
   "metadata": {
    "code_folding": []
   },
   "outputs": [
    {
     "name": "stdout",
     "output_type": "stream",
     "text": [
      "[3, 4]\n",
      "2\n"
     ]
    }
   ],
   "source": [
    "for i in my_list:\n",
    "    if isinstance(i, list) :\n",
    "        print(i)\n",
    "        print(len(i))"
   ]
  },
  {
   "cell_type": "markdown",
   "id": "312c58f1",
   "metadata": {},
   "source": [
    "## Index. First element is always at index 0"
   ]
  },
  {
   "cell_type": "raw",
   "id": "81c47789",
   "metadata": {},
   "source": [
    "my_list[i]"
   ]
  },
  {
   "cell_type": "code",
   "execution_count": 29,
   "id": "1ddf8e36",
   "metadata": {},
   "outputs": [],
   "source": [
    "my_list = [1, 2, [3, 4]]"
   ]
  },
  {
   "cell_type": "code",
   "execution_count": 30,
   "id": "d4a62788",
   "metadata": {},
   "outputs": [
    {
     "name": "stdout",
     "output_type": "stream",
     "text": [
      "1\n"
     ]
    }
   ],
   "source": [
    "print(my_list[0])"
   ]
  },
  {
   "cell_type": "code",
   "execution_count": 31,
   "id": "e0599ba8",
   "metadata": {},
   "outputs": [
    {
     "name": "stdout",
     "output_type": "stream",
     "text": [
      "<class 'int'>\n"
     ]
    }
   ],
   "source": [
    "print(type(my_list[0]))"
   ]
  },
  {
   "cell_type": "code",
   "execution_count": 32,
   "id": "2d15c1fa",
   "metadata": {},
   "outputs": [
    {
     "name": "stdout",
     "output_type": "stream",
     "text": [
      "[3, 4]\n"
     ]
    }
   ],
   "source": [
    "print(my_list[2])"
   ]
  },
  {
   "cell_type": "code",
   "execution_count": 33,
   "id": "6b400e26",
   "metadata": {},
   "outputs": [
    {
     "name": "stdout",
     "output_type": "stream",
     "text": [
      "<class 'list'>\n"
     ]
    }
   ],
   "source": [
    "print(type(my_list[2]))"
   ]
  },
  {
   "cell_type": "markdown",
   "id": "1df7e4be",
   "metadata": {},
   "source": [
    "## Index of index"
   ]
  },
  {
   "cell_type": "raw",
   "id": "94ad1212",
   "metadata": {},
   "source": [
    "my_list[i][j]"
   ]
  },
  {
   "cell_type": "code",
   "execution_count": 34,
   "id": "c1c83934",
   "metadata": {},
   "outputs": [],
   "source": [
    "my_list = [1, 2, [3, 4]]"
   ]
  },
  {
   "cell_type": "code",
   "execution_count": 35,
   "id": "941ae337",
   "metadata": {},
   "outputs": [
    {
     "name": "stdout",
     "output_type": "stream",
     "text": [
      "3\n"
     ]
    }
   ],
   "source": [
    "print(my_list[2][0])"
   ]
  },
  {
   "cell_type": "markdown",
   "id": "99801c5a",
   "metadata": {},
   "source": [
    "## Slice of list"
   ]
  },
  {
   "cell_type": "code",
   "execution_count": 36,
   "id": "a835d29d",
   "metadata": {},
   "outputs": [],
   "source": [
    "my_list = [1, 2, 3, [4, 5, 6], 7, 8, 9]"
   ]
  },
  {
   "cell_type": "code",
   "execution_count": 37,
   "id": "1e01546d",
   "metadata": {},
   "outputs": [
    {
     "name": "stdout",
     "output_type": "stream",
     "text": [
      "[1, 2]\n"
     ]
    }
   ],
   "source": [
    "print(my_list[0:2])"
   ]
  },
  {
   "cell_type": "code",
   "execution_count": 38,
   "id": "1589caea",
   "metadata": {},
   "outputs": [
    {
     "name": "stdout",
     "output_type": "stream",
     "text": [
      "[[4, 5, 6], 7, 8, 9]\n"
     ]
    }
   ],
   "source": [
    "print(my_list[3:])"
   ]
  },
  {
   "cell_type": "code",
   "execution_count": 41,
   "id": "c4a44d0d",
   "metadata": {},
   "outputs": [
    {
     "name": "stdout",
     "output_type": "stream",
     "text": [
      "[[4, 5, 6]]\n"
     ]
    }
   ],
   "source": [
    "print(my_list[3:4])"
   ]
  },
  {
   "cell_type": "code",
   "execution_count": 42,
   "id": "101cb213",
   "metadata": {},
   "outputs": [
    {
     "name": "stdout",
     "output_type": "stream",
     "text": [
      "[[4, 5, 6], 7]\n"
     ]
    }
   ],
   "source": [
    "print(my_list[3:5])"
   ]
  },
  {
   "cell_type": "markdown",
   "id": "5ffcb97c",
   "metadata": {},
   "source": [
    "## List concatenation"
   ]
  },
  {
   "cell_type": "code",
   "execution_count": 43,
   "id": "6b570051",
   "metadata": {},
   "outputs": [],
   "source": [
    "list_a = [1, 2, 3, 4, 5]\n",
    "list_b = [6, 7, 8, 9, 10]"
   ]
  },
  {
   "cell_type": "code",
   "execution_count": 44,
   "id": "2c0bf530",
   "metadata": {},
   "outputs": [],
   "source": [
    "my_list = list_a + list_b"
   ]
  },
  {
   "cell_type": "code",
   "execution_count": 45,
   "id": "7f048cf3",
   "metadata": {},
   "outputs": [
    {
     "name": "stdout",
     "output_type": "stream",
     "text": [
      "[1, 2, 3, 4, 5, 6, 7, 8, 9, 10]\n"
     ]
    }
   ],
   "source": [
    "print(my_list)"
   ]
  },
  {
   "cell_type": "code",
   "execution_count": 46,
   "id": "b6da92fe",
   "metadata": {},
   "outputs": [],
   "source": [
    "list_c = ['a', 'b', 'c', 100]"
   ]
  },
  {
   "cell_type": "code",
   "execution_count": 47,
   "id": "3e5ebd34",
   "metadata": {},
   "outputs": [],
   "source": [
    "my_list = my_list + list_c"
   ]
  },
  {
   "cell_type": "code",
   "execution_count": 48,
   "id": "5fdf3136",
   "metadata": {},
   "outputs": [
    {
     "name": "stdout",
     "output_type": "stream",
     "text": [
      "[1, 2, 3, 4, 5, 6, 7, 8, 9, 10, 'a', 'b', 'c', 100]\n"
     ]
    }
   ],
   "source": [
    "print(my_list)"
   ]
  },
  {
   "cell_type": "markdown",
   "id": "a4ca0281",
   "metadata": {},
   "source": [
    "## List repeat"
   ]
  },
  {
   "cell_type": "code",
   "execution_count": 49,
   "id": "023ebae0",
   "metadata": {},
   "outputs": [],
   "source": [
    "my_list = [1, 2, 3, 4 ]"
   ]
  },
  {
   "cell_type": "code",
   "execution_count": 50,
   "id": "c15c2595",
   "metadata": {},
   "outputs": [
    {
     "name": "stdout",
     "output_type": "stream",
     "text": [
      "[1, 2, 3, 4, 1, 2, 3, 4, 1, 2, 3, 4]\n"
     ]
    }
   ],
   "source": [
    "print(my_list * 3)"
   ]
  },
  {
   "cell_type": "markdown",
   "id": "ed81bbda",
   "metadata": {},
   "source": [
    "## List iteration"
   ]
  },
  {
   "cell_type": "code",
   "execution_count": 51,
   "id": "761a12c1",
   "metadata": {},
   "outputs": [],
   "source": [
    "my_list = [1, 2, 3, 4, 'o', 'e', 'list', [2, 4, 6]]"
   ]
  },
  {
   "cell_type": "code",
   "execution_count": 52,
   "id": "ad09b814",
   "metadata": {},
   "outputs": [
    {
     "name": "stdout",
     "output_type": "stream",
     "text": [
      "1\n",
      "2\n",
      "3\n",
      "4\n",
      "o\n",
      "e\n",
      "list\n",
      "[2, 4, 6]\n"
     ]
    }
   ],
   "source": [
    "for i in my_list:\n",
    "    print(i)"
   ]
  },
  {
   "cell_type": "markdown",
   "id": "4baa358b",
   "metadata": {},
   "source": [
    "## Membership test"
   ]
  },
  {
   "cell_type": "code",
   "execution_count": 56,
   "id": "83844011",
   "metadata": {},
   "outputs": [],
   "source": [
    "my_list = [1, 2, 3, 4, 'o', 'e', 'list', [2, 8, 6]]"
   ]
  },
  {
   "cell_type": "code",
   "execution_count": 57,
   "id": "21f07a47",
   "metadata": {},
   "outputs": [
    {
     "name": "stdout",
     "output_type": "stream",
     "text": [
      "False\n"
     ]
    }
   ],
   "source": [
    "print(7 in my_list)"
   ]
  },
  {
   "cell_type": "code",
   "execution_count": 58,
   "id": "2f397793",
   "metadata": {},
   "outputs": [
    {
     "name": "stdout",
     "output_type": "stream",
     "text": [
      "True\n"
     ]
    }
   ],
   "source": [
    "my_list = [1, 2, 3, 4, 'o', 'e', 'list', [2, 8, 6]]print('e' in my_list)"
   ]
  },
  {
   "cell_type": "code",
   "execution_count": 59,
   "id": "19ba849a",
   "metadata": {},
   "outputs": [
    {
     "name": "stdout",
     "output_type": "stream",
     "text": [
      "False\n"
     ]
    }
   ],
   "source": [
    "print(8 in my_list)"
   ]
  },
  {
   "cell_type": "code",
   "execution_count": 60,
   "id": "1fc3ea3e",
   "metadata": {},
   "outputs": [
    {
     "name": "stdout",
     "output_type": "stream",
     "text": [
      "True\n"
     ]
    }
   ],
   "source": [
    "print([2, 8, 6] in my_list)"
   ]
  },
  {
   "cell_type": "markdown",
   "id": "0d0b22c5",
   "metadata": {},
   "source": [
    "## Add an element"
   ]
  },
  {
   "cell_type": "code",
   "execution_count": 61,
   "id": "18a3fadf",
   "metadata": {},
   "outputs": [],
   "source": [
    "my_list = [1, 2, 3, 4, 'o', 'e', 'list', [2, 8, 6]]"
   ]
  },
  {
   "cell_type": "code",
   "execution_count": 62,
   "id": "2994fc67",
   "metadata": {},
   "outputs": [],
   "source": [
    "my_list.append(56)"
   ]
  },
  {
   "cell_type": "code",
   "execution_count": 63,
   "id": "00b069e5",
   "metadata": {},
   "outputs": [
    {
     "name": "stdout",
     "output_type": "stream",
     "text": [
      "[1, 2, 3, 4, 'o', 'e', 'list', [2, 8, 6], 56]\n"
     ]
    }
   ],
   "source": [
    "print(my_list)"
   ]
  },
  {
   "cell_type": "markdown",
   "id": "d6abf47b",
   "metadata": {},
   "source": [
    "## Extend a list with elements from another iterable"
   ]
  },
  {
   "cell_type": "code",
   "execution_count": 66,
   "id": "142201c9",
   "metadata": {},
   "outputs": [],
   "source": [
    "my_list = [1, 2, 3, 4, 'o', 'e', 'list', [2, 8, 6]]"
   ]
  },
  {
   "cell_type": "code",
   "execution_count": 67,
   "id": "43de4987",
   "metadata": {},
   "outputs": [],
   "source": [
    "my_list.extend([4, 5, 6])"
   ]
  },
  {
   "cell_type": "code",
   "execution_count": 68,
   "id": "3fa43456",
   "metadata": {},
   "outputs": [
    {
     "name": "stdout",
     "output_type": "stream",
     "text": [
      "[1, 2, 3, 4, 'o', 'e', 'list', [2, 8, 6], 4, 5, 6]\n"
     ]
    }
   ],
   "source": [
    "print(my_list)"
   ]
  },
  {
   "cell_type": "code",
   "execution_count": 69,
   "id": "11b39234",
   "metadata": {},
   "outputs": [],
   "source": [
    "my_list.append(['n', 1])"
   ]
  },
  {
   "cell_type": "code",
   "execution_count": 70,
   "id": "fdd05023",
   "metadata": {},
   "outputs": [
    {
     "name": "stdout",
     "output_type": "stream",
     "text": [
      "[1, 2, 3, 4, 'o', 'e', 'list', [2, 8, 6], 4, 5, 6, ['n', 1]]\n"
     ]
    }
   ],
   "source": [
    "print(my_list)"
   ]
  },
  {
   "cell_type": "code",
   "execution_count": 71,
   "id": "04946ae1",
   "metadata": {},
   "outputs": [],
   "source": [
    "my_list.extend(['u', 2])"
   ]
  },
  {
   "cell_type": "code",
   "execution_count": 72,
   "id": "598499ea",
   "metadata": {},
   "outputs": [
    {
     "name": "stdout",
     "output_type": "stream",
     "text": [
      "[1, 2, 3, 4, 'o', 'e', 'list', [2, 8, 6], 4, 5, 6, ['n', 1], 'u', 2]\n"
     ]
    }
   ],
   "source": [
    "print(my_list)"
   ]
  },
  {
   "cell_type": "markdown",
   "id": "12ec3a09",
   "metadata": {},
   "source": [
    "## Insert a new element"
   ]
  },
  {
   "cell_type": "raw",
   "id": "e19c3a4e",
   "metadata": {},
   "source": [
    "my_list.insert(index, element)\n",
    "\n",
    "index   - where the element must inserted\n",
    "element - element to insert"
   ]
  },
  {
   "cell_type": "code",
   "execution_count": 73,
   "id": "d9b288a6",
   "metadata": {},
   "outputs": [],
   "source": [
    "my_list = [1, 2, 3, 4, 'o', 'e', 'list', [2, 8, 6]]"
   ]
  },
  {
   "cell_type": "code",
   "execution_count": 74,
   "id": "1e592133",
   "metadata": {},
   "outputs": [],
   "source": [
    "my_list.insert(3, 'inserted')"
   ]
  },
  {
   "cell_type": "code",
   "execution_count": 75,
   "id": "1472dc5e",
   "metadata": {},
   "outputs": [
    {
     "name": "stdout",
     "output_type": "stream",
     "text": [
      "[1, 2, 3, 'inserted', 4, 'o', 'e', 'list', [2, 8, 6]]\n"
     ]
    }
   ],
   "source": [
    "print(my_list)"
   ]
  },
  {
   "cell_type": "markdown",
   "id": "5ac60891",
   "metadata": {},
   "source": [
    "## Find the position (index) of an element. Returns error if element not found."
   ]
  },
  {
   "cell_type": "code",
   "execution_count": 76,
   "id": "57b26e8e",
   "metadata": {},
   "outputs": [],
   "source": [
    "my_list = [1, 2, 3, 4, 'o', 'e', 'list', [2, 8, 6]]"
   ]
  },
  {
   "cell_type": "code",
   "execution_count": 77,
   "id": "b0750e19",
   "metadata": {},
   "outputs": [
    {
     "name": "stdout",
     "output_type": "stream",
     "text": [
      "o\n"
     ]
    }
   ],
   "source": [
    "print(my_list[4])"
   ]
  },
  {
   "cell_type": "code",
   "execution_count": 78,
   "id": "09ee9873",
   "metadata": {},
   "outputs": [
    {
     "ename": "IndexError",
     "evalue": "list index out of range",
     "output_type": "error",
     "traceback": [
      "\u001b[1;31m---------------------------------------------------------------------------\u001b[0m",
      "\u001b[1;31mIndexError\u001b[0m                                Traceback (most recent call last)",
      "\u001b[1;32m~\\AppData\\Local\\Temp/ipykernel_10400/4002884907.py\u001b[0m in \u001b[0;36m<module>\u001b[1;34m\u001b[0m\n\u001b[1;32m----> 1\u001b[1;33m \u001b[0mprint\u001b[0m\u001b[1;33m(\u001b[0m\u001b[0mmy_list\u001b[0m\u001b[1;33m[\u001b[0m\u001b[1;36m12\u001b[0m\u001b[1;33m]\u001b[0m\u001b[1;33m)\u001b[0m\u001b[1;33m\u001b[0m\u001b[1;33m\u001b[0m\u001b[0m\n\u001b[0m",
      "\u001b[1;31mIndexError\u001b[0m: list index out of range"
     ]
    }
   ],
   "source": [
    "print(my_list[12])"
   ]
  },
  {
   "cell_type": "markdown",
   "id": "1f953709",
   "metadata": {},
   "source": [
    "## Counts the occurrences of an element"
   ]
  },
  {
   "cell_type": "markdown",
   "id": "49b3b03d",
   "metadata": {},
   "source": [
    "my_list.count(element)"
   ]
  },
  {
   "cell_type": "code",
   "execution_count": 84,
   "id": "b65d169e",
   "metadata": {},
   "outputs": [],
   "source": [
    "my_list = [1, 4, 3, 4, 'o', 'e', 'list', [1, 8, 6]]"
   ]
  },
  {
   "cell_type": "code",
   "execution_count": 85,
   "id": "8b513fd6",
   "metadata": {},
   "outputs": [
    {
     "name": "stdout",
     "output_type": "stream",
     "text": [
      "1\n"
     ]
    }
   ],
   "source": [
    "print(my_list.count('list'))"
   ]
  },
  {
   "cell_type": "code",
   "execution_count": 86,
   "id": "e1d75137",
   "metadata": {},
   "outputs": [
    {
     "name": "stdout",
     "output_type": "stream",
     "text": [
      "2\n"
     ]
    }
   ],
   "source": [
    "print(my_list.count(4))"
   ]
  },
  {
   "cell_type": "code",
   "execution_count": 87,
   "id": "7247aeee",
   "metadata": {},
   "outputs": [
    {
     "name": "stdout",
     "output_type": "stream",
     "text": [
      "1\n"
     ]
    }
   ],
   "source": [
    "print(my_list.count(1))"
   ]
  },
  {
   "cell_type": "markdown",
   "id": "0253e192",
   "metadata": {},
   "source": [
    "## Sorts the list in-place"
   ]
  },
  {
   "cell_type": "markdown",
   "id": "832a896d",
   "metadata": {},
   "source": [
    "my_list.sort()"
   ]
  },
  {
   "cell_type": "code",
   "execution_count": 93,
   "id": "542c4217",
   "metadata": {},
   "outputs": [],
   "source": [
    "my_list = [4, 6, 1, 9, 0, 23, 78, 12]"
   ]
  },
  {
   "cell_type": "code",
   "execution_count": 94,
   "id": "0e6a291f",
   "metadata": {},
   "outputs": [],
   "source": [
    "my_list.sort()"
   ]
  },
  {
   "cell_type": "code",
   "execution_count": 95,
   "id": "ed595809",
   "metadata": {},
   "outputs": [
    {
     "name": "stdout",
     "output_type": "stream",
     "text": [
      "[0, 1, 4, 6, 9, 12, 23, 78]\n"
     ]
    }
   ],
   "source": [
    "print(my_list)"
   ]
  },
  {
   "cell_type": "code",
   "execution_count": 96,
   "id": "6f4395a0",
   "metadata": {},
   "outputs": [],
   "source": [
    "my_list = [1, 2, 3, 4, 'o', 'e', 'list', [2, 8, 6]]"
   ]
  },
  {
   "cell_type": "code",
   "execution_count": 97,
   "id": "ddcc8735",
   "metadata": {},
   "outputs": [
    {
     "ename": "TypeError",
     "evalue": "'<' not supported between instances of 'str' and 'int'",
     "output_type": "error",
     "traceback": [
      "\u001b[1;31m---------------------------------------------------------------------------\u001b[0m",
      "\u001b[1;31mTypeError\u001b[0m                                 Traceback (most recent call last)",
      "\u001b[1;32m~\\AppData\\Local\\Temp/ipykernel_10400/1879591915.py\u001b[0m in \u001b[0;36m<module>\u001b[1;34m\u001b[0m\n\u001b[1;32m----> 1\u001b[1;33m \u001b[0mmy_list\u001b[0m\u001b[1;33m.\u001b[0m\u001b[0msort\u001b[0m\u001b[1;33m(\u001b[0m\u001b[1;33m)\u001b[0m\u001b[1;33m\u001b[0m\u001b[1;33m\u001b[0m\u001b[0m\n\u001b[0m",
      "\u001b[1;31mTypeError\u001b[0m: '<' not supported between instances of 'str' and 'int'"
     ]
    }
   ],
   "source": [
    "my_list.sort()"
   ]
  },
  {
   "cell_type": "markdown",
   "id": "b3d4e92d",
   "metadata": {},
   "source": [
    "## Reverses the list"
   ]
  },
  {
   "cell_type": "raw",
   "id": "1bda7e9c",
   "metadata": {},
   "source": [
    "my_list.reverse()"
   ]
  },
  {
   "cell_type": "code",
   "execution_count": 98,
   "id": "51edb673",
   "metadata": {},
   "outputs": [],
   "source": [
    "my_list = [4, 6, 1, 9, 0, 23, 78, 12]"
   ]
  },
  {
   "cell_type": "code",
   "execution_count": 99,
   "id": "dbf5d6a6",
   "metadata": {},
   "outputs": [],
   "source": [
    "my_list.reverse()"
   ]
  },
  {
   "cell_type": "code",
   "execution_count": 100,
   "id": "a4476712",
   "metadata": {},
   "outputs": [
    {
     "name": "stdout",
     "output_type": "stream",
     "text": [
      "[12, 78, 23, 0, 9, 1, 6, 4]\n"
     ]
    }
   ],
   "source": [
    "print(my_list)"
   ]
  },
  {
   "cell_type": "markdown",
   "id": "ce706146",
   "metadata": {},
   "source": [
    "## Deletes the element at index k"
   ]
  },
  {
   "cell_type": "raw",
   "id": "8404d354",
   "metadata": {},
   "source": [
    "del my_list[k]"
   ]
  },
  {
   "cell_type": "code",
   "execution_count": 101,
   "id": "1287a91a",
   "metadata": {},
   "outputs": [],
   "source": [
    "my_list = [1, 2, 3, 4, 'o', 'e', 'list', [2, 8, 6]]"
   ]
  },
  {
   "cell_type": "code",
   "execution_count": 103,
   "id": "c256ea61",
   "metadata": {},
   "outputs": [],
   "source": [
    "del my_list[7]"
   ]
  },
  {
   "cell_type": "code",
   "execution_count": 104,
   "id": "5842bc0e",
   "metadata": {},
   "outputs": [
    {
     "name": "stdout",
     "output_type": "stream",
     "text": [
      "[1, 2, 3, 4, 'o', 'e', 'list']\n"
     ]
    }
   ],
   "source": [
    "print(my_list)"
   ]
  },
  {
   "cell_type": "markdown",
   "id": "7e8d6323",
   "metadata": {},
   "source": [
    "## Deletes the elements between indices i (inclusive) and j (non-inclusive)"
   ]
  },
  {
   "cell_type": "raw",
   "id": "a27160c4",
   "metadata": {},
   "source": [
    "del my_list[i:j]"
   ]
  },
  {
   "cell_type": "code",
   "execution_count": 105,
   "id": "7c3edafc",
   "metadata": {},
   "outputs": [],
   "source": [
    "my_list = [1, 2, 3, 4, 'o', 'e', 'list', [2, 8, 6]]"
   ]
  },
  {
   "cell_type": "code",
   "execution_count": 106,
   "id": "68b6b1f0",
   "metadata": {},
   "outputs": [],
   "source": [
    "del my_list[2:5]"
   ]
  },
  {
   "cell_type": "code",
   "execution_count": 107,
   "id": "0c8cf72b",
   "metadata": {},
   "outputs": [
    {
     "name": "stdout",
     "output_type": "stream",
     "text": [
      "[1, 2, 'e', 'list', [2, 8, 6]]\n"
     ]
    }
   ],
   "source": [
    "print(my_list)"
   ]
  },
  {
   "cell_type": "markdown",
   "id": "6b5da461",
   "metadata": {},
   "source": [
    "## Removes and returns the last element of a list"
   ]
  },
  {
   "cell_type": "raw",
   "id": "04f965ad",
   "metadata": {},
   "source": [
    "my_list.pop()"
   ]
  },
  {
   "cell_type": "code",
   "execution_count": 108,
   "id": "e6aa7e12",
   "metadata": {},
   "outputs": [],
   "source": [
    "my_list = [1, 2, 3, 4, 'o', 'e', 'list', [2, 8, 6]]"
   ]
  },
  {
   "cell_type": "code",
   "execution_count": 109,
   "id": "227f6a4c",
   "metadata": {},
   "outputs": [
    {
     "data": {
      "text/plain": [
       "[2, 8, 6]"
      ]
     },
     "execution_count": 109,
     "metadata": {},
     "output_type": "execute_result"
    }
   ],
   "source": [
    "my_list.pop()"
   ]
  },
  {
   "cell_type": "code",
   "execution_count": 110,
   "id": "96356f56",
   "metadata": {},
   "outputs": [
    {
     "name": "stdout",
     "output_type": "stream",
     "text": [
      "[1, 2, 3, 4, 'o', 'e', 'list']\n"
     ]
    }
   ],
   "source": [
    "print(my_list)"
   ]
  },
  {
   "cell_type": "markdown",
   "id": "59c66f32",
   "metadata": {},
   "source": [
    "## Removes the first occurrence of the element"
   ]
  },
  {
   "cell_type": "raw",
   "id": "202ba019",
   "metadata": {},
   "source": [
    "my_list.remove(element)"
   ]
  },
  {
   "cell_type": "code",
   "execution_count": 111,
   "id": "db301592",
   "metadata": {},
   "outputs": [],
   "source": [
    "my_list = [1, 2, 3, 4, 'o', 'e', 'list', [2, 8, 6]]"
   ]
  },
  {
   "cell_type": "code",
   "execution_count": 112,
   "id": "da7ba451",
   "metadata": {},
   "outputs": [],
   "source": [
    "my_list.remove('e')"
   ]
  },
  {
   "cell_type": "code",
   "execution_count": 113,
   "id": "5da7063d",
   "metadata": {},
   "outputs": [
    {
     "name": "stdout",
     "output_type": "stream",
     "text": [
      "[1, 2, 3, 4, 'o', 'list', [2, 8, 6]]\n"
     ]
    }
   ],
   "source": [
    "print(my_list)"
   ]
  },
  {
   "cell_type": "code",
   "execution_count": 114,
   "id": "29dcc952",
   "metadata": {},
   "outputs": [
    {
     "ename": "ValueError",
     "evalue": "list.remove(x): x not in list",
     "output_type": "error",
     "traceback": [
      "\u001b[1;31m---------------------------------------------------------------------------\u001b[0m",
      "\u001b[1;31mValueError\u001b[0m                                Traceback (most recent call last)",
      "\u001b[1;32m~\\AppData\\Local\\Temp/ipykernel_10400/2199665846.py\u001b[0m in \u001b[0;36m<module>\u001b[1;34m\u001b[0m\n\u001b[1;32m----> 1\u001b[1;33m \u001b[0mmy_list\u001b[0m\u001b[1;33m.\u001b[0m\u001b[0mremove\u001b[0m\u001b[1;33m(\u001b[0m\u001b[1;34m'add'\u001b[0m\u001b[1;33m)\u001b[0m\u001b[1;33m\u001b[0m\u001b[1;33m\u001b[0m\u001b[0m\n\u001b[0m",
      "\u001b[1;31mValueError\u001b[0m: list.remove(x): x not in list"
     ]
    }
   ],
   "source": [
    "my_list.remove('add')"
   ]
  },
  {
   "cell_type": "markdown",
   "id": "7f31371f",
   "metadata": {},
   "source": [
    "## Slice assignment"
   ]
  },
  {
   "cell_type": "markdown",
   "id": "f074878a",
   "metadata": {},
   "source": [
    "my_list[i:j] = []"
   ]
  },
  {
   "cell_type": "code",
   "execution_count": 115,
   "id": "dd8da9c2",
   "metadata": {},
   "outputs": [],
   "source": [
    "my_list = [1, 2, 3, 4, 'o', 'e', 'list', [2, 8, 6]]"
   ]
  },
  {
   "cell_type": "code",
   "execution_count": 116,
   "id": "f94aeed0",
   "metadata": {},
   "outputs": [],
   "source": [
    "my_list[3:5] = [0, 0]"
   ]
  },
  {
   "cell_type": "code",
   "execution_count": 117,
   "id": "52b88656",
   "metadata": {},
   "outputs": [
    {
     "name": "stdout",
     "output_type": "stream",
     "text": [
      "[1, 2, 3, 0, 0, 'e', 'list', [2, 8, 6]]\n"
     ]
    }
   ],
   "source": [
    "print(my_list)"
   ]
  },
  {
   "cell_type": "code",
   "execution_count": 118,
   "id": "840f2226",
   "metadata": {},
   "outputs": [],
   "source": [
    "my_list[3:8] = [1, 1]"
   ]
  },
  {
   "cell_type": "code",
   "execution_count": 119,
   "id": "f596ab58",
   "metadata": {},
   "outputs": [
    {
     "name": "stdout",
     "output_type": "stream",
     "text": [
      "[1, 2, 3, 1, 1]\n"
     ]
    }
   ],
   "source": [
    "print(my_list)"
   ]
  },
  {
   "cell_type": "markdown",
   "id": "3f6c9d56",
   "metadata": {},
   "source": [
    "## Index assignment"
   ]
  },
  {
   "cell_type": "code",
   "execution_count": 120,
   "id": "a9aa3c49",
   "metadata": {},
   "outputs": [],
   "source": [
    "my_list = [1, 2, 3, 4, 'o', 'e', 'list', [2, 8, 6]]"
   ]
  },
  {
   "cell_type": "code",
   "execution_count": 121,
   "id": "61538714",
   "metadata": {},
   "outputs": [],
   "source": [
    "my_list[7] = 8"
   ]
  },
  {
   "cell_type": "code",
   "execution_count": 122,
   "id": "501d9481",
   "metadata": {},
   "outputs": [
    {
     "name": "stdout",
     "output_type": "stream",
     "text": [
      "[1, 2, 3, 4, 'o', 'e', 'list', 8]\n"
     ]
    }
   ],
   "source": [
    "print(my_list)"
   ]
  }
 ],
 "metadata": {
  "kernelspec": {
   "display_name": "Python 3 (ipykernel)",
   "language": "python",
   "name": "python3"
  },
  "language_info": {
   "codemirror_mode": {
    "name": "ipython",
    "version": 3
   },
   "file_extension": ".py",
   "mimetype": "text/x-python",
   "name": "python",
   "nbconvert_exporter": "python",
   "pygments_lexer": "ipython3",
   "version": "3.9.7"
  },
  "toc": {
   "base_numbering": 1,
   "nav_menu": {
    "height": "176px",
    "width": "286px"
   },
   "number_sections": true,
   "sideBar": true,
   "skip_h1_title": true,
   "title_cell": "Table of Contents",
   "title_sidebar": "Contents",
   "toc_cell": false,
   "toc_position": {
    "height": "calc(100% - 180px)",
    "left": "10px",
    "top": "150px",
    "width": "303.837px"
   },
   "toc_section_display": true,
   "toc_window_display": true
  }
 },
 "nbformat": 4,
 "nbformat_minor": 5
}
