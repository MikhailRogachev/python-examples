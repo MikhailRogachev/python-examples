{
 "cells": [
  {
   "cell_type": "markdown",
   "id": "c727cc8a",
   "metadata": {},
   "source": [
    "## How to get highest repetetive element from the list"
   ]
  },
  {
   "cell_type": "code",
   "execution_count": 14,
   "id": "9a931572",
   "metadata": {},
   "outputs": [],
   "source": [
    "source_list = ['x', 'z', 'a', 'd', 'a', 't', 'z', 'z', 'v', 'm', 'a']"
   ]
  },
  {
   "cell_type": "code",
   "execution_count": 15,
   "id": "35b39938",
   "metadata": {},
   "outputs": [],
   "source": [
    "target_dic = {}"
   ]
  },
  {
   "cell_type": "code",
   "execution_count": 16,
   "id": "ac65e302",
   "metadata": {},
   "outputs": [],
   "source": [
    "for key in source_list:\n",
    "    \n",
    "    if key in target_dic.keys():\n",
    "        value = target_dic[key]\n",
    "        target_dic[key] = value + 1\n",
    "        \n",
    "    else:\n",
    "        target_dic[key] = 1"
   ]
  },
  {
   "cell_type": "code",
   "execution_count": 17,
   "id": "37e74257",
   "metadata": {},
   "outputs": [
    {
     "data": {
      "text/plain": [
       "{'x': 1, 'z': 3, 'a': 3, 'd': 1, 't': 1, 'v': 1, 'm': 1}"
      ]
     },
     "execution_count": 17,
     "metadata": {},
     "output_type": "execute_result"
    }
   ],
   "source": [
    "target_dic"
   ]
  },
  {
   "cell_type": "code",
   "execution_count": 25,
   "id": "85b7cc39",
   "metadata": {},
   "outputs": [],
   "source": [
    "sorted_lst = sorted(target_dic.items(), key = lambda x : x[1], reverse = True)"
   ]
  },
  {
   "cell_type": "code",
   "execution_count": 27,
   "id": "feb97914",
   "metadata": {},
   "outputs": [],
   "source": [
    "target_dic = dict(sorted_lst)"
   ]
  },
  {
   "cell_type": "code",
   "execution_count": 28,
   "id": "bad50b68",
   "metadata": {},
   "outputs": [
    {
     "data": {
      "text/plain": [
       "{'z': 3, 'a': 3, 'x': 1, 'd': 1, 't': 1, 'v': 1, 'm': 1}"
      ]
     },
     "execution_count": 28,
     "metadata": {},
     "output_type": "execute_result"
    }
   ],
   "source": [
    "target_dic"
   ]
  }
 ],
 "metadata": {
  "kernelspec": {
   "display_name": "Python 3",
   "language": "python",
   "name": "python3"
  },
  "language_info": {
   "codemirror_mode": {
    "name": "ipython",
    "version": 3
   },
   "file_extension": ".py",
   "mimetype": "text/x-python",
   "name": "python",
   "nbconvert_exporter": "python",
   "pygments_lexer": "ipython3",
   "version": "3.8.8"
  }
 },
 "nbformat": 4,
 "nbformat_minor": 5
}
