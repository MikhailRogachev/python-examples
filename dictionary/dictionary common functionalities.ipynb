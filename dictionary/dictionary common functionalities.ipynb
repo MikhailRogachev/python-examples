{
 "cells": [
  {
   "cell_type": "markdown",
   "id": "eeaeb53d",
   "metadata": {},
   "source": [
    "# Mapping - Dictionary\n",
    "\n",
    "A dictionary is a mapping data type - an unordered and mutable collection of key-value pairs. Dictionaries can contain heterogeneous data types too."
   ]
  },
  {
   "cell_type": "markdown",
   "id": "e346d1f3",
   "metadata": {},
   "source": [
    "## Examples"
   ]
  },
  {
   "cell_type": "raw",
   "id": "6ae734a2",
   "metadata": {},
   "source": [
    "A dictionary is handy when you want to map a key (which must be immutable) to a value (which can change). A simple example for that is storing phone number data:"
   ]
  },
  {
   "cell_type": "code",
   "execution_count": 1,
   "id": "89312ade",
   "metadata": {},
   "outputs": [],
   "source": [
    "my_dict = {'Adam' : 12345, 'Drake' : 67890 }"
   ]
  },
  {
   "cell_type": "code",
   "execution_count": 2,
   "id": "7e2e0907",
   "metadata": {},
   "outputs": [
    {
     "name": "stdout",
     "output_type": "stream",
     "text": [
      "<class 'dict'>\n",
      "67890\n"
     ]
    }
   ],
   "source": [
    "print(type(my_dict))\n",
    "print(my_dict['Drake'])"
   ]
  },
  {
   "cell_type": "raw",
   "id": "ea29a06f",
   "metadata": {},
   "source": [
    "The key is a name, which is of type string, i.e., immutable. The value is an integer, accessed by the corresponding key. The example can be expanded by nesting a dictionary for each name – this way we can store more data for a single person:"
   ]
  },
  {
   "cell_type": "code",
   "execution_count": 3,
   "id": "953d4d4d",
   "metadata": {},
   "outputs": [],
   "source": [
    "my_dict = {'Adam' : {'phone':'23-03-69', 'price':12.09}, 'Drake':{'phone':'57-09-23', 'email':'rot@hz.com', 'price':90}}"
   ]
  },
  {
   "cell_type": "code",
   "execution_count": 4,
   "id": "97d06aa8",
   "metadata": {},
   "outputs": [
    {
     "name": "stdout",
     "output_type": "stream",
     "text": [
      "{'phone': '23-03-69', 'price': 12.09}\n",
      "23-03-69\n",
      "{'phone': '57-09-23', 'email': 'rot@hz.com', 'price': 90}\n"
     ]
    }
   ],
   "source": [
    "print(my_dict['Adam'])\n",
    "print(my_dict['Adam']['phone'])\n",
    "print(my_dict['Drake'])"
   ]
  },
  {
   "cell_type": "markdown",
   "id": "bc920d17",
   "metadata": {},
   "source": [
    "## Common methods\n",
    "### New Empty Dictionary"
   ]
  },
  {
   "cell_type": "code",
   "execution_count": 5,
   "id": "22373d21",
   "metadata": {},
   "outputs": [],
   "source": [
    "my_dict = {}"
   ]
  },
  {
   "cell_type": "code",
   "execution_count": 6,
   "id": "315da8d3",
   "metadata": {},
   "outputs": [
    {
     "name": "stdout",
     "output_type": "stream",
     "text": [
      "<class 'dict'>\n"
     ]
    }
   ],
   "source": [
    "print(type(my_dict))"
   ]
  },
  {
   "cell_type": "markdown",
   "id": "57ebe041",
   "metadata": {},
   "source": [
    "### Two-item dictionary"
   ]
  },
  {
   "cell_type": "code",
   "execution_count": 7,
   "id": "a0b54676",
   "metadata": {},
   "outputs": [],
   "source": [
    "my_dict = { 'country' : 'Russia', 'population' : 156000000 }"
   ]
  },
  {
   "cell_type": "code",
   "execution_count": 9,
   "id": "9b8c2d4b",
   "metadata": {},
   "outputs": [
    {
     "name": "stdout",
     "output_type": "stream",
     "text": [
      "<class 'dict'>\n",
      "{'country': 'Russia', 'population': 156000000}\n"
     ]
    }
   ],
   "source": [
    "print(type(my_dict))\n",
    "print(my_dict)"
   ]
  },
  {
   "cell_type": "markdown",
   "id": "9a838e07",
   "metadata": {},
   "source": [
    "### Nested dictionary"
   ]
  },
  {
   "cell_type": "code",
   "execution_count": 10,
   "id": "7a14b404",
   "metadata": {},
   "outputs": [],
   "source": [
    "my_dict = { 1: {'name' : 'Russia', 'population' : 156000000 }}"
   ]
  },
  {
   "cell_type": "code",
   "execution_count": 12,
   "id": "e0a914b4",
   "metadata": {},
   "outputs": [
    {
     "name": "stdout",
     "output_type": "stream",
     "text": [
      "<class 'dict'>\n",
      "{1: {'name': 'Russia', 'population': 156000000}}\n",
      "{'name': 'Russia', 'population': 156000000}\n"
     ]
    }
   ],
   "source": [
    "print(type(my_dict))\n",
    "print(my_dict)\n",
    "print(my_dict[1])"
   ]
  },
  {
   "cell_type": "markdown",
   "id": "e9e0d680",
   "metadata": {},
   "source": [
    "### Creates a dictionary with the *dict* keyword"
   ]
  },
  {
   "cell_type": "code",
   "execution_count": 13,
   "id": "148de818",
   "metadata": {},
   "outputs": [],
   "source": [
    "my_dict = dict( first_name = 'Andy', age = 37 )"
   ]
  },
  {
   "cell_type": "code",
   "execution_count": 14,
   "id": "7e7e623f",
   "metadata": {},
   "outputs": [
    {
     "name": "stdout",
     "output_type": "stream",
     "text": [
      "<class 'dict'>\n",
      "{'first_name': 'Andy', 'age': 37}\n"
     ]
    }
   ],
   "source": [
    "print(type(my_dict))\n",
    "print(my_dict)"
   ]
  },
  {
   "cell_type": "markdown",
   "id": "b3706ee6",
   "metadata": {},
   "source": [
    "### Zipped pair wrapped with dict"
   ]
  },
  {
   "cell_type": "code",
   "execution_count": 15,
   "id": "1b805ce2",
   "metadata": {},
   "outputs": [],
   "source": [
    "keys = ['name', 'age', 'phone']\n",
    "values = ['Adam', 37, '233-98-66']"
   ]
  },
  {
   "cell_type": "code",
   "execution_count": 16,
   "id": "c4db493d",
   "metadata": {},
   "outputs": [],
   "source": [
    "my_dict = dict(zip(keys, values))"
   ]
  },
  {
   "cell_type": "code",
   "execution_count": 17,
   "id": "4eb67663",
   "metadata": {},
   "outputs": [
    {
     "name": "stdout",
     "output_type": "stream",
     "text": [
      "<class 'dict'>\n",
      "{'name': 'Adam', 'age': 37, 'phone': '233-98-66'}\n"
     ]
    }
   ],
   "source": [
    "print(type(my_dict))\n",
    "print(my_dict)"
   ]
  },
  {
   "cell_type": "markdown",
   "id": "150cf1dd",
   "metadata": {},
   "source": [
    "### New dictionary from a list of keys"
   ]
  },
  {
   "cell_type": "code",
   "execution_count": 18,
   "id": "e04b852e",
   "metadata": {},
   "outputs": [],
   "source": [
    "keys = ['name', 'age', 'phone', 'address', 'education']"
   ]
  },
  {
   "cell_type": "code",
   "execution_count": 19,
   "id": "205e86b5",
   "metadata": {},
   "outputs": [],
   "source": [
    "my_dict = dict.fromkeys(keys)"
   ]
  },
  {
   "cell_type": "code",
   "execution_count": 20,
   "id": "18c1b112",
   "metadata": {},
   "outputs": [
    {
     "name": "stdout",
     "output_type": "stream",
     "text": [
      "<class 'dict'>\n",
      "{'name': None, 'age': None, 'phone': None, 'address': None, 'education': None}\n"
     ]
    }
   ],
   "source": [
    "print(type(my_dict))\n",
    "print(my_dict)"
   ]
  },
  {
   "cell_type": "markdown",
   "id": "d7034ac4",
   "metadata": {},
   "source": [
    "### Membership test"
   ]
  },
  {
   "cell_type": "code",
   "execution_count": 27,
   "id": "ac25b0f3",
   "metadata": {},
   "outputs": [
    {
     "name": "stdout",
     "output_type": "stream",
     "text": [
      "{'first_name': 'Andy', 'age': 37}\n"
     ]
    }
   ],
   "source": [
    "my_dict = dict( first_name = 'Andy', age = 37 )\n",
    "print(my_dict)"
   ]
  },
  {
   "cell_type": "code",
   "execution_count": 22,
   "id": "480902cd",
   "metadata": {},
   "outputs": [
    {
     "data": {
      "text/plain": [
       "False"
      ]
     },
     "execution_count": 22,
     "metadata": {},
     "output_type": "execute_result"
    }
   ],
   "source": [
    "'Tom' in my_dict"
   ]
  },
  {
   "cell_type": "code",
   "execution_count": 23,
   "id": "a6587c9e",
   "metadata": {},
   "outputs": [
    {
     "data": {
      "text/plain": [
       "False"
      ]
     },
     "execution_count": 23,
     "metadata": {},
     "output_type": "execute_result"
    }
   ],
   "source": [
    "'Andy' in my_dict"
   ]
  },
  {
   "cell_type": "code",
   "execution_count": 24,
   "id": "bb518fb7",
   "metadata": {},
   "outputs": [
    {
     "data": {
      "text/plain": [
       "True"
      ]
     },
     "execution_count": 24,
     "metadata": {},
     "output_type": "execute_result"
    }
   ],
   "source": [
    "'first_name' in my_dict"
   ]
  },
  {
   "cell_type": "code",
   "execution_count": 26,
   "id": "31a39aec",
   "metadata": {},
   "outputs": [
    {
     "data": {
      "text/plain": [
       "False"
      ]
     },
     "execution_count": 26,
     "metadata": {},
     "output_type": "execute_result"
    }
   ],
   "source": [
    "'gender' in my_dict"
   ]
  },
  {
   "cell_type": "markdown",
   "id": "4f389eec",
   "metadata": {},
   "source": [
    "### Keys"
   ]
  },
  {
   "cell_type": "code",
   "execution_count": 28,
   "id": "9d2ca616",
   "metadata": {},
   "outputs": [],
   "source": [
    "my_dict = dict( first_name = 'Andy', age = 37 )"
   ]
  },
  {
   "cell_type": "code",
   "execution_count": 29,
   "id": "38cc5a7b",
   "metadata": {},
   "outputs": [
    {
     "data": {
      "text/plain": [
       "dict_keys(['first_name', 'age'])"
      ]
     },
     "execution_count": 29,
     "metadata": {},
     "output_type": "execute_result"
    }
   ],
   "source": [
    "my_dict.keys()"
   ]
  },
  {
   "cell_type": "code",
   "execution_count": 30,
   "id": "1145092a",
   "metadata": {},
   "outputs": [
    {
     "name": "stdout",
     "output_type": "stream",
     "text": [
      "<class 'dict_keys'>\n"
     ]
    }
   ],
   "source": [
    "print(type(my_dict.keys()))"
   ]
  },
  {
   "cell_type": "markdown",
   "id": "bd71d6f1",
   "metadata": {},
   "source": [
    "### Values"
   ]
  },
  {
   "cell_type": "code",
   "execution_count": 34,
   "id": "f7bb2773",
   "metadata": {},
   "outputs": [],
   "source": [
    "my_dict = dict( first_name = 'Andy', age = 37 )"
   ]
  },
  {
   "cell_type": "code",
   "execution_count": 35,
   "id": "37c85905",
   "metadata": {},
   "outputs": [
    {
     "name": "stdout",
     "output_type": "stream",
     "text": [
      "dict_values(['Andy', 37])\n",
      "<class 'dict_values'>\n"
     ]
    }
   ],
   "source": [
    "print(my_dict.values())\n",
    "print(type(my_dict.values()))"
   ]
  },
  {
   "cell_type": "markdown",
   "id": "cd0ff5d2",
   "metadata": {},
   "source": [
    "### Keys and values"
   ]
  },
  {
   "cell_type": "code",
   "execution_count": 36,
   "id": "0c4b731b",
   "metadata": {},
   "outputs": [],
   "source": [
    "my_dict = dict( first_name = 'Andy', age = 37 )"
   ]
  },
  {
   "cell_type": "code",
   "execution_count": 41,
   "id": "09a85aad",
   "metadata": {},
   "outputs": [
    {
     "name": "stdout",
     "output_type": "stream",
     "text": [
      "dict_items([('first_name', 'Andy'), ('age', 37)])\n",
      "<class 'dict_items'>\n"
     ]
    }
   ],
   "source": [
    "print(my_dict.items())\n",
    "print(type(my_dict.items()))"
   ]
  },
  {
   "cell_type": "markdown",
   "id": "cdd1f400",
   "metadata": {},
   "source": [
    "### Copies the dictionary"
   ]
  },
  {
   "cell_type": "code",
   "execution_count": 42,
   "id": "cfa09a86",
   "metadata": {},
   "outputs": [],
   "source": [
    "my_dict = dict( first_name = 'Andy', age = 37 )\n",
    "her_dict = my_dict.copy()"
   ]
  },
  {
   "cell_type": "code",
   "execution_count": 43,
   "id": "1b16faad",
   "metadata": {},
   "outputs": [
    {
     "name": "stdout",
     "output_type": "stream",
     "text": [
      "<class 'dict'>\n",
      "{'first_name': 'Andy', 'age': 37}\n"
     ]
    }
   ],
   "source": [
    "print(type(her_dict))\n",
    "print(her_dict)"
   ]
  },
  {
   "cell_type": "code",
   "execution_count": 44,
   "id": "a8c4182b",
   "metadata": {},
   "outputs": [
    {
     "name": "stdout",
     "output_type": "stream",
     "text": [
      "True\n"
     ]
    }
   ],
   "source": [
    "print(my_dict == her_dict)"
   ]
  },
  {
   "cell_type": "code",
   "execution_count": 45,
   "id": "71245e83",
   "metadata": {},
   "outputs": [
    {
     "name": "stdout",
     "output_type": "stream",
     "text": [
      "False\n"
     ]
    }
   ],
   "source": [
    "print(my_dict is her_dict)"
   ]
  },
  {
   "cell_type": "markdown",
   "id": "5e75aad8",
   "metadata": {},
   "source": [
    "### Gets the specified key as an argument or returns a default value"
   ]
  },
  {
   "cell_type": "code",
   "execution_count": 46,
   "id": "dd7a3d75",
   "metadata": {},
   "outputs": [],
   "source": [
    "default_value = 'NA'\n",
    "my_dict = dict( first_name = 'Andy', age = 37 )"
   ]
  },
  {
   "cell_type": "code",
   "execution_count": 50,
   "id": "f02eb3d1",
   "metadata": {},
   "outputs": [
    {
     "name": "stdout",
     "output_type": "stream",
     "text": [
      "Andy\n",
      "NA\n",
      "None\n"
     ]
    }
   ],
   "source": [
    "print(my_dict.get('first_name', default_value))\n",
    "print(my_dict.get('region', default_value))\n",
    "print(my_dict.get('region'))"
   ]
  },
  {
   "cell_type": "markdown",
   "id": "49bc478b",
   "metadata": {},
   "source": [
    "### Updates the original dictionary"
   ]
  },
  {
   "cell_type": "code",
   "execution_count": 51,
   "id": "92812e34",
   "metadata": {},
   "outputs": [],
   "source": [
    "my_dict = dict( first_name = 'Andy', age = 37 )\n",
    "her_dict = dict( region = 'GGA')"
   ]
  },
  {
   "cell_type": "code",
   "execution_count": 52,
   "id": "e74cd66b",
   "metadata": {},
   "outputs": [],
   "source": [
    "my_dict.update(her_dict)"
   ]
  },
  {
   "cell_type": "code",
   "execution_count": 53,
   "id": "f4cf1ec8",
   "metadata": {},
   "outputs": [
    {
     "name": "stdout",
     "output_type": "stream",
     "text": [
      "{'first_name': 'Andy', 'age': 37, 'region': 'GGA'}\n"
     ]
    }
   ],
   "source": [
    "print(my_dict)"
   ]
  },
  {
   "cell_type": "markdown",
   "id": "c72abc36",
   "metadata": {},
   "source": [
    "### Removes the key and returns the value"
   ]
  },
  {
   "cell_type": "code",
   "execution_count": 54,
   "id": "d2569248",
   "metadata": {},
   "outputs": [],
   "source": [
    "my_dict = dict( first_name = 'Andy', age = 37, region = 'CGI', area = 'A1' )"
   ]
  },
  {
   "cell_type": "code",
   "execution_count": 55,
   "id": "0f4a1246",
   "metadata": {},
   "outputs": [
    {
     "name": "stdout",
     "output_type": "stream",
     "text": [
      "{'first_name': 'Andy', 'age': 37, 'region': 'CGI', 'area': 'A1'}\n"
     ]
    }
   ],
   "source": [
    "print(my_dict)"
   ]
  },
  {
   "cell_type": "code",
   "execution_count": 56,
   "id": "4eda8580",
   "metadata": {},
   "outputs": [
    {
     "data": {
      "text/plain": [
       "'CGI'"
      ]
     },
     "execution_count": 56,
     "metadata": {},
     "output_type": "execute_result"
    }
   ],
   "source": [
    "my_dict.pop('region')"
   ]
  },
  {
   "cell_type": "code",
   "execution_count": 57,
   "id": "160331d6",
   "metadata": {},
   "outputs": [
    {
     "name": "stdout",
     "output_type": "stream",
     "text": [
      "{'first_name': 'Andy', 'age': 37, 'area': 'A1'}\n"
     ]
    }
   ],
   "source": [
    "print(my_dict)"
   ]
  },
  {
   "cell_type": "markdown",
   "id": "b75e1768",
   "metadata": {},
   "source": [
    "### Returns the length in number of keys"
   ]
  },
  {
   "cell_type": "code",
   "execution_count": 58,
   "id": "cc406d9d",
   "metadata": {},
   "outputs": [],
   "source": [
    "my_dict = dict( first_name = 'Andy', age = 37, region = 'CGI', area = 'A1' )"
   ]
  },
  {
   "cell_type": "code",
   "execution_count": 59,
   "id": "167044b8",
   "metadata": {},
   "outputs": [
    {
     "name": "stdout",
     "output_type": "stream",
     "text": [
      "4\n"
     ]
    }
   ],
   "source": [
    "print(len(my_dict))"
   ]
  },
  {
   "cell_type": "markdown",
   "id": "c6c4a37a",
   "metadata": {},
   "source": [
    "### Changes the value of a key"
   ]
  },
  {
   "cell_type": "code",
   "execution_count": 60,
   "id": "d9497350",
   "metadata": {},
   "outputs": [],
   "source": [
    "my_dict = dict( first_name = 'Andy', age = 37, region = 'CGI', area = 'A1' )"
   ]
  },
  {
   "cell_type": "code",
   "execution_count": 61,
   "id": "e6e1036e",
   "metadata": {},
   "outputs": [
    {
     "name": "stdout",
     "output_type": "stream",
     "text": [
      "{'first_name': 'Andy', 'age': 37, 'region': 'CGI', 'area': 'A1'}\n"
     ]
    }
   ],
   "source": [
    "print(my_dict)"
   ]
  },
  {
   "cell_type": "code",
   "execution_count": 62,
   "id": "4715024d",
   "metadata": {},
   "outputs": [],
   "source": [
    "my_dict['area'] = 'A3'"
   ]
  },
  {
   "cell_type": "code",
   "execution_count": 63,
   "id": "ad8d4eb5",
   "metadata": {},
   "outputs": [
    {
     "name": "stdout",
     "output_type": "stream",
     "text": [
      "{'first_name': 'Andy', 'age': 37, 'region': 'CGI', 'area': 'A3'}\n"
     ]
    }
   ],
   "source": [
    "print(my_dict)"
   ]
  },
  {
   "cell_type": "code",
   "execution_count": 64,
   "id": "395e8974",
   "metadata": {},
   "outputs": [],
   "source": [
    "my_dict['area'] = 67"
   ]
  },
  {
   "cell_type": "code",
   "execution_count": 65,
   "id": "794c367f",
   "metadata": {},
   "outputs": [
    {
     "name": "stdout",
     "output_type": "stream",
     "text": [
      "{'first_name': 'Andy', 'age': 37, 'region': 'CGI', 'area': 67}\n"
     ]
    }
   ],
   "source": [
    "print(my_dict)"
   ]
  }
 ],
 "metadata": {
  "kernelspec": {
   "display_name": "Python 3 (ipykernel)",
   "language": "python",
   "name": "python3"
  },
  "language_info": {
   "codemirror_mode": {
    "name": "ipython",
    "version": 3
   },
   "file_extension": ".py",
   "mimetype": "text/x-python",
   "name": "python",
   "nbconvert_exporter": "python",
   "pygments_lexer": "ipython3",
   "version": "3.9.7"
  },
  "toc": {
   "base_numbering": 1,
   "nav_menu": {},
   "number_sections": true,
   "sideBar": true,
   "skip_h1_title": true,
   "title_cell": "Table of Contents",
   "title_sidebar": "Contents",
   "toc_cell": false,
   "toc_position": {},
   "toc_section_display": true,
   "toc_window_display": true
  },
  "varInspector": {
   "cols": {
    "lenName": 16,
    "lenType": 16,
    "lenVar": 40
   },
   "kernels_config": {
    "python": {
     "delete_cmd_postfix": "",
     "delete_cmd_prefix": "del ",
     "library": "var_list.py",
     "varRefreshCmd": "print(var_dic_list())"
    },
    "r": {
     "delete_cmd_postfix": ") ",
     "delete_cmd_prefix": "rm(",
     "library": "var_list.r",
     "varRefreshCmd": "cat(var_dic_list()) "
    }
   },
   "types_to_exclude": [
    "module",
    "function",
    "builtin_function_or_method",
    "instance",
    "_Feature"
   ],
   "window_display": false
  }
 },
 "nbformat": 4,
 "nbformat_minor": 5
}
